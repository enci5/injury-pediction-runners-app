{
 "cells": [
  {
   "cell_type": "code",
   "execution_count": 26,
   "metadata": {},
   "outputs": [],
   "source": [
    "import numpy as np\n",
    "import pandas as pd\n",
    "import xgboost as xgb\n",
    "import matplotlib.pyplot as plt\n",
    "from sklearn.metrics import accuracy_score, precision_score, recall_score, f1_score, confusion_matrix, classification_report\n",
    "from sklearn.model_selection import train_test_split\n",
    "from tensorflow.keras.models import Sequential\n",
    "from tensorflow.keras.layers import LSTM, Dense, Dropout\n",
    "from tensorflow.keras.metrics import Precision, Recall"
   ]
  },
  {
   "cell_type": "code",
   "execution_count": null,
   "metadata": {},
   "outputs": [],
   "source": [
    "# Load the dataset\n",
    "url = r\"D:\\Computer science\\Year 3\\Project COM3001\\The App\\Models\\week_approach_maskedID_timeseries.csv\"\n",
    "data = pd.read_csv(url)\n",
    "print(data)"
   ]
  },
  {
   "cell_type": "code",
   "execution_count": 15,
   "metadata": {},
   "outputs": [
    {
     "name": "stdout",
     "output_type": "stream",
     "text": [
      "Shape of input for LSTM: (42766, 7, 10)\n",
      "Shape of input for XGBOOST: (42766, 70)\n"
     ]
    }
   ],
   "source": [
    "# Define the features and target\n",
    "feature_columns = [\n",
    "    'nr. sessions', 'nr. sessions.1', 'nr. sessions.2', 'nr. sessions.3', 'nr. sessions.4', 'nr. sessions.5', 'nr. sessions.6',\n",
    "    'total km', 'total km.1', 'total km.2', 'total km.3', 'total km.4', 'total km.5', 'total km.6',\n",
    "    'km Z3-4', 'km Z3-4.1', 'km Z3-4.2', 'km Z3-4.3', 'km Z3-4.4', 'km Z3-4.5', 'km Z3-4.6',\n",
    "    'km Z5-T1-T2', 'km Z5-T1-T2.1', 'km Z5-T1-T2.2', 'km Z5-T1-T2.3', 'km Z5-T1-T2.4','km Z5-T1-T2.5', 'km Z5-T1-T2.6',\n",
    "    'km sprinting', 'km sprinting.1', 'km sprinting.2', 'km sprinting.3', 'km sprinting.4', 'km sprinting.5', 'km sprinting.6', \n",
    "    'strength training', 'strength training.1', 'strength training.2', 'strength training.3', 'strength training.4', 'strength training.5', 'strength training.6',\n",
    "    'hours alternative', 'hours alternative.1', 'hours alternative.2', 'hours alternative.3', 'hours alternative.4', 'hours alternative.5', 'hours alternative.6',\n",
    "    'perceived exertion', 'perceived exertion.1', 'perceived exertion.2', 'perceived exertion.3', 'perceived exertion.4', 'perceived exertion.5', 'perceived exertion.6',\n",
    "    'perceived trainingSuccess', 'perceived trainingSuccess.1', 'perceived trainingSuccess.2', 'perceived trainingSuccess.3', 'perceived trainingSuccess.4', 'perceived trainingSuccess.5', 'perceived trainingSuccess.6', \n",
    "    'perceived recovery', 'perceived recovery.1', 'perceived recovery.2', 'perceived recovery.3', 'perceived recovery.4', 'perceived recovery.5', 'perceived recovery.6'\n",
    "    ]\n",
    "target_column = 'injury'\n",
    "\n",
    "# Extract features and target\n",
    "X = data[feature_columns].values\n",
    "Y = data[target_column].values\n",
    "\n",
    "# Reshape X for LSTM input\n",
    "sequence_length = 7  # 7 days\n",
    "num_features = len(feature_columns) // sequence_length  # Number of features per day\n",
    "X_LSTM = X.reshape(-1, sequence_length, num_features)\n",
    "Y_LSTM = Y\n",
    "\n",
    "# XGBOOST input\n",
    "X_XGBOOST = X\n",
    "Y_XGBOOST = Y\n",
    "\n",
    "print(f\"Shape of input for LSTM: {X_LSTM.shape}\")  # (num_samples, 7, num_features)\n",
    "print(f\"Shape of input for XGBOOST: {X_XGBOOST.shape}\")"
   ]
  },
  {
   "cell_type": "code",
   "execution_count": 16,
   "metadata": {},
   "outputs": [],
   "source": [
    "X_train_LSTM, X_test_LSTM, Y_train_LSTM, Y_test_LSTM = train_test_split(X_LSTM, Y_LSTM, test_size=0.2, random_state=42)\n",
    "X_train_BOOST, X_test_BOOST, Y_train_BOOST, Y_test_BOOST = train_test_split(X_XGBOOST, Y_XGBOOST, test_size=0.2, random_state=42)"
   ]
  },
  {
   "cell_type": "code",
   "execution_count": 19,
   "metadata": {},
   "outputs": [
    {
     "name": "stdout",
     "output_type": "stream",
     "text": [
      "583\n",
      "42183\n"
     ]
    },
    {
     "data": {
      "image/png": "[encoded data removed]",
      "text/plain": [
       "<Figure size 800x600 with 1 Axes>"
      ]
     },
     "metadata": {},
     "output_type": "display_data"
    }
   ],
   "source": [
    "# It counts the first occurance as to the first variable\n",
    "noninjury, injury = np.bincount(Y)\n",
    "print(injury)\n",
    "print(noninjury)\n",
    "\n",
    "# Labels for the classes\n",
    "labels = ['Injury', 'Non-Injury']\n",
    "counts = [injury, noninjury]\n",
    "\n",
    "# Plotting the bar chart\n",
    "plt.figure(figsize=(8, 6))  # Set the size of the figure\n",
    "plt.bar(labels, counts, color=['red', 'green'])  # Color for each class\n",
    "plt.xlabel('Class')\n",
    "plt.ylabel('Count')\n",
    "plt.title('Class Distribution: Injury vs Non-Injury')\n",
    "\n",
    "# Display the plot\n",
    "plt.show()\n"
   ]
  },
  {
   "cell_type": "code",
   "execution_count": null,
   "metadata": {},
   "outputs": [
    {
     "name": "stderr",
     "output_type": "stream",
     "text": [
      "c:\\Users\\ench0\\AppData\\Local\\Programs\\Python\\Python311\\Lib\\site-packages\\keras\\src\\layers\\rnn\\rnn.py:200: UserWarning: Do not pass an `input_shape`/`input_dim` argument to a layer. When using Sequential models, prefer using an `Input(shape)` object as the first layer in the model instead.\n",
      "  super().__init__(**kwargs)\n"
     ]
    },
    {
     "data": {
      "text/html": [
       "<pre style=\"white-space:pre;overflow-x:auto;line-height:normal;font-family:Menlo,'DejaVu Sans Mono',consolas,'Courier New',monospace\"><span style=\"font-weight: bold\">Model: \"sequential\"</span>\n",
       "</pre>\n"
      ],
      "text/plain": [
       "\u001b[1mModel: \"sequential\"\u001b[0m\n"
      ]
     },
     "metadata": {},
     "output_type": "display_data"
    },
    {
     "data": {
      "text/html": [
       "<pre style=\"white-space:pre;overflow-x:auto;line-height:normal;font-family:Menlo,'DejaVu Sans Mono',consolas,'Courier New',monospace\">┏━━━━━━━━━━━━━━━━━━━━━━━━━━━━━━━━━┳━━━━━━━━━━━━━━━━━━━━━━━━┳━━━━━━━━━━━━━━━┓\n",
       "┃<span style=\"font-weight: bold\"> Layer (type)                    </span>┃<span style=\"font-weight: bold\"> Output Shape           </span>┃<span style=\"font-weight: bold\">       Param # </span>┃\n",
       "┡━━━━━━━━━━━━━━━━━━━━━━━━━━━━━━━━━╇━━━━━━━━━━━━━━━━━━━━━━━━╇━━━━━━━━━━━━━━━┩\n",
       "│ lstm (<span style=\"color: #0087ff; text-decoration-color: #0087ff\">LSTM</span>)                     │ (<span style=\"color: #00d7ff; text-decoration-color: #00d7ff\">None</span>, <span style=\"color: #00af00; text-decoration-color: #00af00\">50</span>)             │        <span style=\"color: #00af00; text-decoration-color: #00af00\">12,200</span> │\n",
       "├─────────────────────────────────┼────────────────────────┼───────────────┤\n",
       "│ dropout (<span style=\"color: #0087ff; text-decoration-color: #0087ff\">Dropout</span>)               │ (<span style=\"color: #00d7ff; text-decoration-color: #00d7ff\">None</span>, <span style=\"color: #00af00; text-decoration-color: #00af00\">50</span>)             │             <span style=\"color: #00af00; text-decoration-color: #00af00\">0</span> │\n",
       "├─────────────────────────────────┼────────────────────────┼───────────────┤\n",
       "│ dense (<span style=\"color: #0087ff; text-decoration-color: #0087ff\">Dense</span>)                   │ (<span style=\"color: #00d7ff; text-decoration-color: #00d7ff\">None</span>, <span style=\"color: #00af00; text-decoration-color: #00af00\">1</span>)              │            <span style=\"color: #00af00; text-decoration-color: #00af00\">51</span> │\n",
       "└─────────────────────────────────┴────────────────────────┴───────────────┘\n",
       "</pre>\n"
      ],
      "text/plain": [
       "┏━━━━━━━━━━━━━━━━━━━━━━━━━━━━━━━━━┳━━━━━━━━━━━━━━━━━━━━━━━━┳━━━━━━━━━━━━━━━┓\n",
       "┃\u001b[1m \u001b[0m\u001b[1mLayer (type)                   \u001b[0m\u001b[1m \u001b[0m┃\u001b[1m \u001b[0m\u001b[1mOutput Shape          \u001b[0m\u001b[1m \u001b[0m┃\u001b[1m \u001b[0m\u001b[1m      Param #\u001b[0m\u001b[1m \u001b[0m┃\n",
       "┡━━━━━━━━━━━━━━━━━━━━━━━━━━━━━━━━━╇━━━━━━━━━━━━━━━━━━━━━━━━╇━━━━━━━━━━━━━━━┩\n",
       "│ lstm (\u001b[38;5;33mLSTM\u001b[0m)                     │ (\u001b[38;5;45mNone\u001b[0m, \u001b[38;5;34m50\u001b[0m)             │        \u001b[38;5;34m12,200\u001b[0m │\n",
       "├─────────────────────────────────┼────────────────────────┼───────────────┤\n",
       "│ dropout (\u001b[38;5;33mDropout\u001b[0m)               │ (\u001b[38;5;45mNone\u001b[0m, \u001b[38;5;34m50\u001b[0m)             │             \u001b[38;5;34m0\u001b[0m │\n",
       "├─────────────────────────────────┼────────────────────────┼───────────────┤\n",
       "│ dense (\u001b[38;5;33mDense\u001b[0m)                   │ (\u001b[38;5;45mNone\u001b[0m, \u001b[38;5;34m1\u001b[0m)              │            \u001b[38;5;34m51\u001b[0m │\n",
       "└─────────────────────────────────┴────────────────────────┴───────────────┘\n"
      ]
     },
     "metadata": {},
     "output_type": "display_data"
    },
    {
     "data": {
      "text/html": [
       "<pre style=\"white-space:pre;overflow-x:auto;line-height:normal;font-family:Menlo,'DejaVu Sans Mono',consolas,'Courier New',monospace\"><span style=\"font-weight: bold\"> Total params: </span><span style=\"color: #00af00; text-decoration-color: #00af00\">12,251</span> (47.86 KB)\n",
       "</pre>\n"
      ],
      "text/plain": [
       "\u001b[1m Total params: \u001b[0m\u001b[38;5;34m12,251\u001b[0m (47.86 KB)\n"
      ]
     },
     "metadata": {},
     "output_type": "display_data"
    },
    {
     "data": {
      "text/html": [
       "<pre style=\"white-space:pre;overflow-x:auto;line-height:normal;font-family:Menlo,'DejaVu Sans Mono',consolas,'Courier New',monospace\"><span style=\"font-weight: bold\"> Trainable params: </span><span style=\"color: #00af00; text-decoration-color: #00af00\">12,251</span> (47.86 KB)\n",
       "</pre>\n"
      ],
      "text/plain": [
       "\u001b[1m Trainable params: \u001b[0m\u001b[38;5;34m12,251\u001b[0m (47.86 KB)\n"
      ]
     },
     "metadata": {},
     "output_type": "display_data"
    },
    {
     "data": {
      "text/html": [
       "<pre style=\"white-space:pre;overflow-x:auto;line-height:normal;font-family:Menlo,'DejaVu Sans Mono',consolas,'Courier New',monospace\"><span style=\"font-weight: bold\"> Non-trainable params: </span><span style=\"color: #00af00; text-decoration-color: #00af00\">0</span> (0.00 B)\n",
       "</pre>\n"
      ],
      "text/plain": [
       "\u001b[1m Non-trainable params: \u001b[0m\u001b[38;5;34m0\u001b[0m (0.00 B)\n"
      ]
     },
     "metadata": {},
     "output_type": "display_data"
    }
   ],
   "source": [
    "# Define the model\n",
    "model = Sequential()\n",
    "\n",
    "model.add(LSTM(50, input_shape=(sequence_length, num_features)))  # Return sequences for stacked LSTM\n",
    "model.add(Dropout(0.2))  # Increase dropout rate\n",
    "\n",
    "# Add a Dense output layer with sigmoid activation for binary classification\n",
    "model.add(Dense(1, activation='sigmoid'))\n",
    "\n",
    "# Compile the model\n",
    "model.compile(loss='binary_crossentropy', optimizer='adam', metrics=['accuracy', Precision(), Recall()])\n",
    "\n",
    "# Print the model summary\n",
    "model.summary()"
   ]
  },
  {
   "cell_type": "code",
   "execution_count": null,
   "metadata": {},
   "outputs": [
    {
     "name": "stdout",
     "output_type": "stream",
     "text": [
      "Epoch 1/20\n",
      "\u001b[1m1070/1070\u001b[0m \u001b[32m━━━━━━━━━━━━━━━━━━━━\u001b[0m\u001b[37m\u001b[0m \u001b[1m4s\u001b[0m 2ms/step - accuracy: 0.9837 - loss: 0.3864 - precision: 0.0000e+00 - recall: 0.0000e+00 - val_accuracy: 0.9860 - val_loss: 0.1640 - val_precision: 0.0000e+00 - val_recall: 0.0000e+00\n",
      "Epoch 2/20\n",
      "\u001b[1m1070/1070\u001b[0m \u001b[32m━━━━━━━━━━━━━━━━━━━━\u001b[0m\u001b[37m\u001b[0m \u001b[1m2s\u001b[0m 2ms/step - accuracy: 0.9866 - loss: 0.3440 - precision: 0.0000e+00 - recall: 0.0000e+00 - val_accuracy: 0.9860 - val_loss: 0.1465 - val_precision: 0.0000e+00 - val_recall: 0.0000e+00\n",
      "Epoch 3/20\n",
      "\u001b[1m1070/1070\u001b[0m \u001b[32m━━━━━━━━━━━━━━━━━━━━\u001b[0m\u001b[37m\u001b[0m \u001b[1m2s\u001b[0m 2ms/step - accuracy: 0.9875 - loss: 0.3199 - precision: 0.0000e+00 - recall: 0.0000e+00 - val_accuracy: 0.9860 - val_loss: 0.1472 - val_precision: 0.0000e+00 - val_recall: 0.0000e+00\n",
      "Epoch 4/20\n",
      "\u001b[1m1070/1070\u001b[0m \u001b[32m━━━━━━━━━━━━━━━━━━━━\u001b[0m\u001b[37m\u001b[0m \u001b[1m2s\u001b[0m 2ms/step - accuracy: 0.9859 - loss: 0.3559 - precision: 0.6144 - recall: 0.0023 - val_accuracy: 0.9830 - val_loss: 0.1900 - val_precision: 0.0370 - val_recall: 0.0083\n",
      "Epoch 5/20\n",
      "\u001b[1m1070/1070\u001b[0m \u001b[32m━━━━━━━━━━━━━━━━━━━━\u001b[0m\u001b[37m\u001b[0m \u001b[1m2s\u001b[0m 2ms/step - accuracy: 0.9860 - loss: 0.3425 - precision: 0.0000e+00 - recall: 0.0000e+00 - val_accuracy: 0.9859 - val_loss: 0.1279 - val_precision: 0.0000e+00 - val_recall: 0.0000e+00\n",
      "Epoch 6/20\n",
      "\u001b[1m1070/1070\u001b[0m \u001b[32m━━━━━━━━━━━━━━━━━━━━\u001b[0m\u001b[37m\u001b[0m \u001b[1m2s\u001b[0m 2ms/step - accuracy: 0.9855 - loss: 0.3439 - precision: 0.2652 - recall: 0.0036 - val_accuracy: 0.9860 - val_loss: 0.1031 - val_precision: 0.0000e+00 - val_recall: 0.0000e+00\n",
      "Epoch 7/20\n",
      "\u001b[1m1070/1070\u001b[0m \u001b[32m━━━━━━━━━━━━━━━━━━━━\u001b[0m\u001b[37m\u001b[0m \u001b[1m2s\u001b[0m 2ms/step - accuracy: 0.9866 - loss: 0.3223 - precision: 0.1819 - recall: 0.0031 - val_accuracy: 0.9845 - val_loss: 0.1936 - val_precision: 0.0000e+00 - val_recall: 0.0000e+00\n",
      "Epoch 8/20\n",
      "\u001b[1m1070/1070\u001b[0m \u001b[32m━━━━━━━━━━━━━━━━━━━━\u001b[0m\u001b[37m\u001b[0m \u001b[1m2s\u001b[0m 2ms/step - accuracy: 0.9857 - loss: 0.3326 - precision: 0.1768 - recall: 0.0069 - val_accuracy: 0.9835 - val_loss: 0.1772 - val_precision: 0.0000e+00 - val_recall: 0.0000e+00\n",
      "Epoch 9/20\n",
      "\u001b[1m1070/1070\u001b[0m \u001b[32m━━━━━━━━━━━━━━━━━━━━\u001b[0m\u001b[37m\u001b[0m \u001b[1m2s\u001b[0m 2ms/step - accuracy: 0.9847 - loss: 0.3273 - precision: 0.1565 - recall: 0.0222 - val_accuracy: 0.9843 - val_loss: 0.1530 - val_precision: 0.0000e+00 - val_recall: 0.0000e+00\n",
      "Epoch 10/20\n",
      "\u001b[1m1070/1070\u001b[0m \u001b[32m━━━━━━━━━━━━━━━━━━━━\u001b[0m\u001b[37m\u001b[0m \u001b[1m2s\u001b[0m 2ms/step - accuracy: 0.9854 - loss: 0.3167 - precision: 0.2090 - recall: 0.0312 - val_accuracy: 0.9860 - val_loss: 0.1231 - val_precision: 0.0000e+00 - val_recall: 0.0000e+00\n",
      "Epoch 11/20\n",
      "\u001b[1m1070/1070\u001b[0m \u001b[32m━━━━━━━━━━━━━━━━━━━━\u001b[0m\u001b[37m\u001b[0m \u001b[1m2s\u001b[0m 2ms/step - accuracy: 0.9849 - loss: 0.3038 - precision: 0.1678 - recall: 0.0251 - val_accuracy: 0.9856 - val_loss: 0.1109 - val_precision: 0.0000e+00 - val_recall: 0.0000e+00\n",
      "Epoch 12/20\n",
      "\u001b[1m1070/1070\u001b[0m \u001b[32m━━━━━━━━━━━━━━━━━━━━\u001b[0m\u001b[37m\u001b[0m \u001b[1m2s\u001b[0m 2ms/step - accuracy: 0.9828 - loss: 0.3186 - precision: 0.2012 - recall: 0.0667 - val_accuracy: 0.9840 - val_loss: 0.1368 - val_precision: 0.0000e+00 - val_recall: 0.0000e+00\n",
      "Epoch 13/20\n",
      "\u001b[1m1070/1070\u001b[0m \u001b[32m━━━━━━━━━━━━━━━━━━━━\u001b[0m\u001b[37m\u001b[0m \u001b[1m2s\u001b[0m 2ms/step - accuracy: 0.9826 - loss: 0.2980 - precision: 0.1756 - recall: 0.0681 - val_accuracy: 0.9855 - val_loss: 0.1243 - val_precision: 0.0000e+00 - val_recall: 0.0000e+00\n",
      "Epoch 14/20\n",
      "\u001b[1m1070/1070\u001b[0m \u001b[32m━━━━━━━━━━━━━━━━━━━━\u001b[0m\u001b[37m\u001b[0m \u001b[1m2s\u001b[0m 2ms/step - accuracy: 0.9822 - loss: 0.3002 - precision: 0.1268 - recall: 0.0602 - val_accuracy: 0.9835 - val_loss: 0.1134 - val_precision: 0.0000e+00 - val_recall: 0.0000e+00\n",
      "Epoch 15/20\n",
      "\u001b[1m1070/1070\u001b[0m \u001b[32m━━━━━━━━━━━━━━━━━━━━\u001b[0m\u001b[37m\u001b[0m \u001b[1m2s\u001b[0m 2ms/step - accuracy: 0.9828 - loss: 0.2831 - precision: 0.1521 - recall: 0.0734 - val_accuracy: 0.9676 - val_loss: 0.1424 - val_precision: 0.0299 - val_recall: 0.0417\n",
      "Epoch 16/20\n",
      "\u001b[1m1070/1070\u001b[0m \u001b[32m━━━━━━━━━━━━━━━━━━━━\u001b[0m\u001b[37m\u001b[0m \u001b[1m2s\u001b[0m 2ms/step - accuracy: 0.9788 - loss: 0.2857 - precision: 0.1763 - recall: 0.1453 - val_accuracy: 0.9551 - val_loss: 0.1692 - val_precision: 0.0217 - val_recall: 0.0500\n",
      "Epoch 17/20\n",
      "\u001b[1m1070/1070\u001b[0m \u001b[32m━━━━━━━━━━━━━━━━━━━━\u001b[0m\u001b[37m\u001b[0m \u001b[1m2s\u001b[0m 2ms/step - accuracy: 0.9802 - loss: 0.2700 - precision: 0.1658 - recall: 0.1293 - val_accuracy: 0.9638 - val_loss: 0.1695 - val_precision: 0.0153 - val_recall: 0.0250\n",
      "Epoch 18/20\n",
      "\u001b[1m1070/1070\u001b[0m \u001b[32m━━━━━━━━━━━━━━━━━━━━\u001b[0m\u001b[37m\u001b[0m \u001b[1m2s\u001b[0m 2ms/step - accuracy: 0.9772 - loss: 0.2493 - precision: 0.1813 - recall: 0.2233 - val_accuracy: 0.9747 - val_loss: 0.1343 - val_precision: 0.0385 - val_recall: 0.0333\n",
      "Epoch 19/20\n",
      "\u001b[1m1070/1070\u001b[0m \u001b[32m━━━━━━━━━━━━━━━━━━━━\u001b[0m\u001b[37m\u001b[0m \u001b[1m2s\u001b[0m 2ms/step - accuracy: 0.9748 - loss: 0.2592 - precision: 0.1860 - recall: 0.2348 - val_accuracy: 0.9719 - val_loss: 0.1289 - val_precision: 0.0238 - val_recall: 0.0250\n",
      "Epoch 20/20\n",
      "\u001b[1m1070/1070\u001b[0m \u001b[32m━━━━━━━━━━━━━━━━━━━━\u001b[0m\u001b[37m\u001b[0m \u001b[1m2s\u001b[0m 2ms/step - accuracy: 0.9777 - loss: 0.2338 - precision: 0.2293 - recall: 0.2759 - val_accuracy: 0.9778 - val_loss: 0.1269 - val_precision: 0.0395 - val_recall: 0.0250\n"
     ]
    }
   ],
   "source": [
    "history = model.fit(\n",
    "    X_train_LSTM, Y_train_LSTM,\n",
    "    epochs=20,  # Number of training iterations\n",
    "    batch_size=32,  # Number of samples per gradient update\n",
    "    validation_data=(X_test_LSTM, Y_test_LSTM),  # Evaluate on the test set during training\n",
    "    class_weight = {0:1,1:8} # treats instances of 1 as 8 instances\n",
    ")\n"
   ]
  },
  {
   "cell_type": "code",
   "execution_count": null,
   "metadata": {},
   "outputs": [
    {
     "name": "stdout",
     "output_type": "stream",
     "text": [
      "\u001b[1m268/268\u001b[0m \u001b[32m━━━━━━━━━━━━━━━━━━━━\u001b[0m\u001b[37m\u001b[0m \u001b[1m0s\u001b[0m 1ms/step - accuracy: 0.9858 - loss: 0.0769\n",
      "Test Loss: 0.08036775141954422\n",
      "Test Accuracy: 0.9850362539291382\n"
     ]
    }
   ],
   "source": [
    "loss, accuracy = model.evaluate(X_test_LSTM, Y_test_LSTM)\n",
    "print(f'Test Loss: {loss}')\n",
    "print(f'Test Accuracy: {accuracy}')"
   ]
  },
  {
   "cell_type": "code",
   "execution_count": null,
   "metadata": {},
   "outputs": [
    {
     "name": "stdout",
     "output_type": "stream",
     "text": [
      "\u001b[1m268/268\u001b[0m \u001b[32m━━━━━━━━━━━━━━━━━━━━\u001b[0m\u001b[37m\u001b[0m \u001b[1m0s\u001b[0m 1ms/step\n"
     ]
    }
   ],
   "source": [
    "LSTMpredictions = model.predict(X_test_LSTM)"
   ]
  },
  {
   "cell_type": "code",
   "execution_count": 27,
   "metadata": {},
   "outputs": [
    {
     "name": "stdout",
     "output_type": "stream",
     "text": [
      "Predictions: [0 0 0 ... 0 0 0]\n",
      "Accuracy: 0.998216999883082\n",
      "Precision: 1.0\n",
      "Recall: 0.8682505399568035\n",
      "F1 Score: 0.9294797687861271\n",
      "Confusion Matrix:\n",
      " [[33749     0]\n",
      " [   61   402]]\n",
      "\n",
      "Classification Report:\n",
      "               precision    recall  f1-score   support\n",
      "\n",
      "           0       1.00      1.00      1.00     33749\n",
      "           1       1.00      0.87      0.93       463\n",
      "\n",
      "    accuracy                           1.00     34212\n",
      "   macro avg       1.00      0.93      0.96     34212\n",
      "weighted avg       1.00      1.00      1.00     34212\n",
      "\n"
     ]
    }
   ],
   "source": [
    "# Train an XGBoost model\n",
    "model = xgb.XGBClassifier(objective='binary:logistic', eval_metric='logloss')\n",
    "model.fit(X_train_BOOST, Y_train_BOOST)\n",
    "\n",
    "# Make predictions\n",
    "predictions = model.predict(X_train_BOOST)\n",
    "\n",
    "# Evaluate the model performance\n",
    "accuracy = accuracy_score(Y_train_BOOST, predictions)\n",
    "precision = precision_score(Y_train_BOOST, predictions)\n",
    "recall = recall_score(Y_train_BOOST, predictions)\n",
    "f1 = f1_score(Y_train_BOOST, predictions)\n",
    "conf_matrix = confusion_matrix(Y_train_BOOST, predictions)\n",
    "\n",
    "# Print results\n",
    "print(\"Predictions:\", predictions)\n",
    "print(\"Accuracy:\", accuracy)\n",
    "print(\"Precision:\", precision)\n",
    "print(\"Recall:\", recall)\n",
    "print(\"F1 Score:\", f1)\n",
    "print(\"Confusion Matrix:\\n\", conf_matrix)\n",
    "\n",
    "# Optional: Detailed classification report\n",
    "print(\"\\nClassification Report:\\n\", classification_report(Y_train_BOOST, predictions))"
   ]
  }
 ],
 "metadata": {
  "kernelspec": {
   "display_name": "Python 3",
   "language": "python",
   "name": "python3"
  },
  "language_info": {
   "codemirror_mode": {
    "name": "ipython",
    "version": 3
   },
   "file_extension": ".py",
   "mimetype": "text/x-python",
   "name": "python",
   "nbconvert_exporter": "python",
   "pygments_lexer": "ipython3",
   "version": "3.11.9"
  }
 },
 "nbformat": 4,
 "nbformat_minor": 2
}
