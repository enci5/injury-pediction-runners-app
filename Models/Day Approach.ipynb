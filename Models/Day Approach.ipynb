{
 "cells": [
  {
   "cell_type": "code",
   "execution_count": 2,
   "metadata": {},
   "outputs": [],
   "source": [
    "import numpy as np\n",
    "import pandas as pd\n",
    "import xgboost as xgb\n",
    "import matplotlib.pyplot as plt\n",
    "from sklearn.metrics import accuracy_score, precision_score, recall_score, f1_score, confusion_matrix, classification_report\n",
    "from sklearn.model_selection import train_test_split\n",
    "from tensorflow.keras.models import Sequential\n",
    "from tensorflow.keras.layers import LSTM, Dense, Dropout\n",
    "from tensorflow.keras.metrics import Precision, Recall"
   ]
  },
  {
   "cell_type": "code",
   "execution_count": 4,
   "metadata": {},
   "outputs": [
    {
     "name": "stdout",
     "output_type": "stream",
     "text": [
      "       nr. sessions  total km  km Z3-4  km Z5-T1-T2  km sprinting  \\\n",
      "0               1.0       5.8      0.0          0.6           1.2   \n",
      "1               0.0       0.0      0.0          0.0           0.0   \n",
      "2               1.0       0.0      0.0          0.0           0.0   \n",
      "3               0.0       0.0      0.0          0.0           0.0   \n",
      "4               1.0       0.0      0.0          0.0           0.0   \n",
      "...             ...       ...      ...          ...           ...   \n",
      "42761           1.0      16.0      0.0          0.0           0.0   \n",
      "42762           0.0       0.0      0.0          0.0           0.0   \n",
      "42763           1.0      10.0      0.0          0.0           0.0   \n",
      "42764           1.0      15.1      0.0          0.0           0.0   \n",
      "42765           1.0      12.2      0.0          0.0           0.0   \n",
      "\n",
      "       strength training  hours alternative  perceived exertion  \\\n",
      "0                    0.0               0.00                0.11   \n",
      "1                    0.0               0.00               -0.01   \n",
      "2                    1.0               0.00                0.10   \n",
      "3                    0.0               0.00               -0.01   \n",
      "4                    0.0               1.08                0.08   \n",
      "...                  ...                ...                 ...   \n",
      "42761                0.0               0.00                0.54   \n",
      "42762                0.0               0.00               -0.01   \n",
      "42763                0.0               0.00                0.94   \n",
      "42764                0.0               0.00                0.87   \n",
      "42765                0.0               0.00                0.96   \n",
      "\n",
      "       perceived trainingSuccess  perceived recovery  ...  km Z5-T1-T2.6  \\\n",
      "0                           0.00                0.18  ...            0.0   \n",
      "1                          -0.01               -0.01  ...            0.5   \n",
      "2                           0.00                0.17  ...            0.0   \n",
      "3                          -0.01               -0.01  ...            0.0   \n",
      "4                           0.00                0.18  ...            0.0   \n",
      "...                          ...                 ...  ...            ...   \n",
      "42761                       0.22                0.30  ...            0.0   \n",
      "42762                      -0.01               -0.01  ...            0.0   \n",
      "42763                       0.88                0.11  ...            0.0   \n",
      "42764                       0.86                0.20  ...            0.0   \n",
      "42765                       0.95                0.20  ...            0.0   \n",
      "\n",
      "       km sprinting.6  strength training.6  hours alternative.6  \\\n",
      "0                 0.0                  0.0                  1.0   \n",
      "1                 1.2                  0.0                  0.0   \n",
      "2                 0.0                  0.0                  0.0   \n",
      "3                 0.0                  1.0                  0.0   \n",
      "4                 0.0                  0.0                  0.0   \n",
      "...               ...                  ...                  ...   \n",
      "42761             0.0                  0.0                  0.0   \n",
      "42762             0.0                  0.0                  0.0   \n",
      "42763             0.0                  0.0                  0.0   \n",
      "42764             0.0                  0.0                  0.0   \n",
      "42765             0.0                  0.0                  0.0   \n",
      "\n",
      "       perceived exertion.6  perceived trainingSuccess.6  \\\n",
      "0                      0.10                         0.00   \n",
      "1                      0.10                         0.00   \n",
      "2                     -0.01                        -0.01   \n",
      "3                      0.10                         0.00   \n",
      "4                      0.11                         0.00   \n",
      "...                     ...                          ...   \n",
      "42761                 -0.01                        -0.01   \n",
      "42762                 -0.01                        -0.01   \n",
      "42763                 -0.01                        -0.01   \n",
      "42764                  0.79                         0.80   \n",
      "42765                  0.51                         0.83   \n",
      "\n",
      "       perceived recovery.6  Athlete ID  injury  Date  \n",
      "0                      0.15           0       0     0  \n",
      "1                      0.17           0       0     1  \n",
      "2                     -0.01           0       0     2  \n",
      "3                      0.17           0       0     3  \n",
      "4                      0.17           0       0     4  \n",
      "...                     ...         ...     ...   ...  \n",
      "42761                 -0.01          71       1  2143  \n",
      "42762                 -0.01          71       1  2286  \n",
      "42763                 -0.01          71       1  2483  \n",
      "42764                  0.11          71       1  2647  \n",
      "42765                  0.15          71       1  2673  \n",
      "\n",
      "[42766 rows x 73 columns]\n"
     ]
    }
   ],
   "source": [
    "# Load the dataset\n",
    "url = r\"D:\\Computer science\\Year 3\\Project COM3001\\injury-pediction-runners-app\\Models\\day_approach_maskedID_timeseries.csv\"\n",
    "data = pd.read_csv(url)\n",
    "print(data)"
   ]
  },
  {
   "cell_type": "code",
   "execution_count": 6,
   "metadata": {},
   "outputs": [
    {
     "name": "stdout",
     "output_type": "stream",
     "text": [
      "583\n",
      "42183\n"
     ]
    },
    {
     "data": {
      "image/png": "[encoded data removed]",
      "text/plain": [
       "<Figure size 800x600 with 1 Axes>"
      ]
     },
     "metadata": {},
     "output_type": "display_data"
    }
   ],
   "source": [
    "# It counts the first occurance as to the first variable\n",
    "noninjury, injury = np.bincount(data['injury'])\n",
    "print(injury)\n",
    "print(noninjury)\n",
    "\n",
    "# Labels for the classes\n",
    "labels = ['Injury', 'Non-Injury']\n",
    "counts = [injury, noninjury]\n",
    "\n",
    "# Plotting the bar chart\n",
    "plt.figure(figsize=(8, 6))  # Set the size of the figure\n",
    "plt.bar(labels, counts, color=['red', 'green'])  # Color for each class\n",
    "plt.xlabel('Class')\n",
    "plt.ylabel('Count')\n",
    "plt.title('Class Distribution: Injury vs Non-Injury')\n",
    "\n",
    "# Display the plot\n",
    "plt.show()\n"
   ]
  },
  {
   "cell_type": "code",
   "execution_count": 14,
   "metadata": {},
   "outputs": [],
   "source": [
    "# Function to sample a balanced subset\n",
    "def getBalancedSubset(X_train, samplesPerClass):\n",
    "    healthySet = pd.DataFrame()\n",
    "    unhealthySet = pd.DataFrame()\n",
    "\n",
    "    # Grouping athletes and calculating statistics\n",
    "    stats = pd.DataFrame(X_train[['Athlete ID', 'injury']].groupby(['Athlete ID', 'injury']).size().reset_index(name='counts'))\n",
    "    stats = pd.DataFrame(stats[['Athlete ID']].groupby(['Athlete ID']).size().reset_index(name='counts'))\n",
    "    stats.drop(stats[stats['counts'] < 2].index, inplace=True)\n",
    "    athleteList = stats['Athlete ID'].unique()\n",
    "\n",
    "    samplesPerAthlete = int(np.floor(samplesPerClass / len(athleteList)))\n",
    "\n",
    "    # Sampling for each athlete\n",
    "    for athlete in athleteList:\n",
    "        if unhealthySet.empty:\n",
    "            unhealthySet = X_train[(X_train['Athlete ID'] == athlete) & (X_train['injury'] == 0)].sample(samplesPerAthlete, replace=True)\n",
    "        else:\n",
    "            unhealthySet = pd.concat([unhealthySet, X_train[(X_train['Athlete ID'] == athlete) & (X_train['injury'] == 0)].sample(samplesPerAthlete, replace=True)])\n",
    "\n",
    "        if healthySet.empty:\n",
    "            healthySet = X_train[(X_train['Athlete ID'] == athlete) & (X_train['injury'] == 1)].sample(samplesPerAthlete, replace=True)\n",
    "        else:\n",
    "            healthySet = pd.concat([healthySet, X_train[(X_train['Athlete ID'] == athlete) & (X_train['injury'] == 1)].sample(samplesPerAthlete, replace=True)])\n",
    "\n",
    "    balancedSet = pd.concat([healthySet, unhealthySet])\n",
    "    return balancedSet"
   ]
  },
  {
   "cell_type": "code",
   "execution_count": null,
   "metadata": {},
   "outputs": [],
   "source": [
    "# Define the features and target\n",
    "feature_columns = [\n",
    "    'nr. sessions', 'nr. sessions.1', 'nr. sessions.2', 'nr. sessions.3', 'nr. sessions.4', 'nr. sessions.5', 'nr. sessions.6',\n",
    "    'total km', 'total km.1', 'total km.2', 'total km.3', 'total km.4', 'total km.5', 'total km.6',\n",
    "    'km Z3-4', 'km Z3-4.1', 'km Z3-4.2', 'km Z3-4.3', 'km Z3-4.4', 'km Z3-4.5', 'km Z3-4.6',\n",
    "    'km Z5-T1-T2', 'km Z5-T1-T2.1', 'km Z5-T1-T2.2', 'km Z5-T1-T2.3', 'km Z5-T1-T2.4','km Z5-T1-T2.5', 'km Z5-T1-T2.6',\n",
    "    'km sprinting', 'km sprinting.1', 'km sprinting.2', 'km sprinting.3', 'km sprinting.4', 'km sprinting.5', 'km sprinting.6', \n",
    "    'strength training', 'strength training.1', 'strength training.2', 'strength training.3', 'strength training.4', 'strength training.5', 'strength training.6',\n",
    "    'hours alternative', 'hours alternative.1', 'hours alternative.2', 'hours alternative.3', 'hours alternative.4', 'hours alternative.5', 'hours alternative.6',\n",
    "    'perceived exertion', 'perceived exertion.1', 'perceived exertion.2', 'perceived exertion.3', 'perceived exertion.4', 'perceived exertion.5', 'perceived exertion.6',\n",
    "    'perceived trainingSuccess', 'perceived trainingSuccess.1', 'perceived trainingSuccess.2', 'perceived trainingSuccess.3', 'perceived trainingSuccess.4', 'perceived trainingSuccess.5', 'perceived trainingSuccess.6', \n",
    "    'perceived recovery', 'perceived recovery.1', 'perceived recovery.2', 'perceived recovery.3', 'perceived recovery.4', 'perceived recovery.5', 'perceived recovery.6'\n",
    "]\n",
    "target_column = 'injury'\n",
    "\n",
    "# Extract features and target\n",
    "X = data[feature_columns]\n",
    "Y = data[target_column]\n",
    "X_train = data[feature_columns + ['Athlete ID', 'injury']]\n",
    "\n",
    "# Separate features and target\n",
    "X_balanced = X_train_balanced[feature_columns]\n",
    "y_balanced = X_train_balanced['injury']\n",
    "    \n",
    "# Split into train and test sets\n",
    "X_train_BOOST, X_test_BOOST, y_train_BOOST, y_test_BOOST = train_test_split(\n",
    "X_balanced, \n",
    "y_balanced,\n",
    "test_size=0.2,\n",
    "random_state=42,\n",
    "stratify=y_balanced\n",
    ")"
   ]
  },
  {
   "cell_type": "code",
   "execution_count": null,
   "metadata": {},
   "outputs": [
    {
     "name": "stdout",
     "output_type": "stream",
     "text": [
      "\n",
      "Final shapes verification:\n",
      "LSTM shapes:\n",
      "X_train_LSTM: (3225, 7, 10)\n",
      "X_test_LSTM: (807, 7, 10)\n",
      "y_train_LSTM: (3225,)\n",
      "y_test_LSTM: (807,)\n",
      "\n",
      "XGBoost shapes:\n",
      "X_train_BOOST: (3225, 70)\n",
      "X_test_BOOST: (807, 70)\n",
      "y_train_BOOST: (3225,)\n",
      "y_test_BOOST: (807,)\n"
     ]
    }
   ],
   "source": [
    "# Reshape data for LSTM (samples, timesteps, features)\n",
    "# First, identify the base features (without the time steps)\n",
    "base_features = list(set([col.split('.')[0] for col in feature_columns])) # splits each day into a set of the features\n",
    "n_features = len(base_features)  # Should be 10 features\n",
    "n_timesteps = 7  # 7 days\n",
    "\n",
    "# Initialize LSTM arrays\n",
    "X_train_LSTM = np.zeros((len(X_train_BOOST), n_timesteps, n_features))\n",
    "X_test_LSTM = np.zeros((len(X_test_BOOST), n_timesteps, n_features))\n",
    "\n",
    "# Map each base feature to its position in the feature array\n",
    "feature_positions = {feature: idx for idx, feature in enumerate(base_features)}\n",
    "\n",
    "# Fill LSTM arrays\n",
    "for base_feature in base_features:\n",
    "    # Get all columns for this feature\n",
    "    feature_cols = [col for col in feature_columns if col.startswith(base_feature)]\n",
    "    \n",
    "    # Sort them by the time step number\n",
    "    def get_timestep(col):\n",
    "        # Split by '.' and get the last part\n",
    "        parts = col.split('.')\n",
    "        # If there's no number (original feature), return 0\n",
    "        if len(parts) == 1:\n",
    "            return 0\n",
    "        # Get the last part and convert to int\n",
    "        try:\n",
    "            return int(parts[-1])\n",
    "        except ValueError:\n",
    "            # If conversion fails, it's the original feature\n",
    "            return 0\n",
    "    \n",
    "    # Sort using the new function\n",
    "    feature_cols.sort(key=get_timestep)\n",
    "    \n",
    "    # Fill the arrays\n",
    "    feature_idx = feature_positions[base_feature]\n",
    "    for time_idx, col in enumerate(feature_cols):\n",
    "        X_train_LSTM[:, time_idx, feature_idx] = X_train_BOOST[col].values\n",
    "        X_test_LSTM[:, time_idx, feature_idx] = X_test_BOOST[col].values\n",
    "\n",
    "# Keep the same target variables\n",
    "y_train_LSTM = y_train_BOOST.values\n",
    "y_test_LSTM = y_test_BOOST.values\n",
    "\n",
    "# Verify shapes\n",
    "print(\"\\nFinal shapes verification:\")\n",
    "print(\"LSTM shapes:\")\n",
    "print(f\"X_train_LSTM: {X_train_LSTM.shape}\")  # Should be (n_samples, 7, 10)\n",
    "print(f\"X_test_LSTM: {X_test_LSTM.shape}\")    # Should be (n_samples, 7, 10)\n",
    "print(f\"y_train_LSTM: {y_train_LSTM.shape}\")  # Should be (n_samples,)\n",
    "print(f\"y_test_LSTM: {y_test_LSTM.shape}\")    # Should be (n_samples,)\n",
    "\n",
    "print(\"\\nXGBoost shapes:\")\n",
    "print(f\"X_train_BOOST: {X_train_BOOST.shape}\") # Should be (n_samples, 70)\n",
    "print(f\"X_test_BOOST: {X_test_BOOST.shape}\")   # Should be (n_samples, 70)\n",
    "print(f\"y_train_BOOST: {y_train_BOOST.shape}\") # Should be (n_samples,)\n",
    "print(f\"y_test_BOOST: {y_test_BOOST.shape}\")   # Should be (n_samples,)"
   ]
  },
  {
   "cell_type": "code",
   "execution_count": 49,
   "metadata": {},
   "outputs": [
    {
     "name": "stdout",
     "output_type": "stream",
     "text": [
      "Number of occurrences per Athlete ID:\n",
      "Athlete ID\n",
      "0     64\n",
      "54    64\n",
      "40    64\n",
      "41    64\n",
      "42    64\n",
      "      ..\n",
      "32    64\n",
      "33    64\n",
      "34    64\n",
      "35    64\n",
      "71    64\n",
      "Name: count, Length: 63, dtype: int64\n",
      "\n",
      "Total number of unique athletes: 63\n"
     ]
    }
   ],
   "source": [
    "# Get count of each unique Athlete ID\n",
    "id_counts = X_train_balanced['Athlete ID'].value_counts()\n",
    "\n",
    "# Display the counts\n",
    "print(\"Number of occurrences per Athlete ID:\")\n",
    "print(id_counts)\n",
    "\n",
    "# Get total number of unique IDs\n",
    "unique_ids = X_train_balanced['Athlete ID'].nunique()\n",
    "print(f\"\\nTotal number of unique athletes: {unique_ids}\")\n"
   ]
  },
  {
   "cell_type": "code",
   "execution_count": 50,
   "metadata": {},
   "outputs": [
    {
     "name": "stdout",
     "output_type": "stream",
     "text": [
      "\n",
      "Injury distribution per athlete:\n",
      "            Non-Injury  Injury\n",
      "Athlete ID                    \n",
      "0                   32      32\n",
      "1                   32      32\n",
      "2                   32      32\n",
      "3                   32      32\n",
      "4                   32      32\n",
      "...                ...     ...\n",
      "67                  32      32\n",
      "68                  32      32\n",
      "69                  32      32\n",
      "70                  32      32\n",
      "71                  32      32\n",
      "\n",
      "[63 rows x 2 columns]\n",
      "\n",
      "Summary of injuries per athlete:\n",
      "       Non-Injury  Injury\n",
      "count        63.0    63.0\n",
      "mean         32.0    32.0\n",
      "std           0.0     0.0\n",
      "min          32.0    32.0\n",
      "25%          32.0    32.0\n",
      "50%          32.0    32.0\n",
      "75%          32.0    32.0\n",
      "max          32.0    32.0\n"
     ]
    }
   ],
   "source": [
    "# Get counts of injuries/non-injuries per athlete\n",
    "injury_by_athlete = pd.crosstab(X_train_balanced['Athlete ID'], X_train_balanced['injury'])\n",
    "\n",
    "# Rename columns for clarity\n",
    "injury_by_athlete.columns = ['Non-Injury', 'Injury']\n",
    "\n",
    "print(\"\\nInjury distribution per athlete:\")\n",
    "print(injury_by_athlete)\n",
    "\n",
    "# Get summary statistics\n",
    "print(\"\\nSummary of injuries per athlete:\")\n",
    "print(injury_by_athlete.describe())"
   ]
  },
  {
   "cell_type": "code",
   "execution_count": 51,
   "metadata": {},
   "outputs": [
    {
     "name": "stderr",
     "output_type": "stream",
     "text": [
      "c:\\Users\\ench0\\AppData\\Local\\Programs\\Python\\Python311\\Lib\\site-packages\\keras\\src\\layers\\rnn\\rnn.py:200: UserWarning: Do not pass an `input_shape`/`input_dim` argument to a layer. When using Sequential models, prefer using an `Input(shape)` object as the first layer in the model instead.\n",
      "  super().__init__(**kwargs)\n"
     ]
    },
    {
     "data": {
      "text/html": [
       "<pre style=\"white-space:pre;overflow-x:auto;line-height:normal;font-family:Menlo,'DejaVu Sans Mono',consolas,'Courier New',monospace\"><span style=\"font-weight: bold\">Model: \"sequential\"</span>\n",
       "</pre>\n"
      ],
      "text/plain": [
       "\u001b[1mModel: \"sequential\"\u001b[0m\n"
      ]
     },
     "metadata": {},
     "output_type": "display_data"
    },
    {
     "data": {
      "text/html": [
       "<pre style=\"white-space:pre;overflow-x:auto;line-height:normal;font-family:Menlo,'DejaVu Sans Mono',consolas,'Courier New',monospace\">┏━━━━━━━━━━━━━━━━━━━━━━━━━━━━━━━━━┳━━━━━━━━━━━━━━━━━━━━━━━━┳━━━━━━━━━━━━━━━┓\n",
       "┃<span style=\"font-weight: bold\"> Layer (type)                    </span>┃<span style=\"font-weight: bold\"> Output Shape           </span>┃<span style=\"font-weight: bold\">       Param # </span>┃\n",
       "┡━━━━━━━━━━━━━━━━━━━━━━━━━━━━━━━━━╇━━━━━━━━━━━━━━━━━━━━━━━━╇━━━━━━━━━━━━━━━┩\n",
       "│ lstm (<span style=\"color: #0087ff; text-decoration-color: #0087ff\">LSTM</span>)                     │ (<span style=\"color: #00d7ff; text-decoration-color: #00d7ff\">None</span>, <span style=\"color: #00af00; text-decoration-color: #00af00\">50</span>)             │        <span style=\"color: #00af00; text-decoration-color: #00af00\">12,200</span> │\n",
       "├─────────────────────────────────┼────────────────────────┼───────────────┤\n",
       "│ dropout (<span style=\"color: #0087ff; text-decoration-color: #0087ff\">Dropout</span>)               │ (<span style=\"color: #00d7ff; text-decoration-color: #00d7ff\">None</span>, <span style=\"color: #00af00; text-decoration-color: #00af00\">50</span>)             │             <span style=\"color: #00af00; text-decoration-color: #00af00\">0</span> │\n",
       "├─────────────────────────────────┼────────────────────────┼───────────────┤\n",
       "│ dense (<span style=\"color: #0087ff; text-decoration-color: #0087ff\">Dense</span>)                   │ (<span style=\"color: #00d7ff; text-decoration-color: #00d7ff\">None</span>, <span style=\"color: #00af00; text-decoration-color: #00af00\">1</span>)              │            <span style=\"color: #00af00; text-decoration-color: #00af00\">51</span> │\n",
       "└─────────────────────────────────┴────────────────────────┴───────────────┘\n",
       "</pre>\n"
      ],
      "text/plain": [
       "┏━━━━━━━━━━━━━━━━━━━━━━━━━━━━━━━━━┳━━━━━━━━━━━━━━━━━━━━━━━━┳━━━━━━━━━━━━━━━┓\n",
       "┃\u001b[1m \u001b[0m\u001b[1mLayer (type)                   \u001b[0m\u001b[1m \u001b[0m┃\u001b[1m \u001b[0m\u001b[1mOutput Shape          \u001b[0m\u001b[1m \u001b[0m┃\u001b[1m \u001b[0m\u001b[1m      Param #\u001b[0m\u001b[1m \u001b[0m┃\n",
       "┡━━━━━━━━━━━━━━━━━━━━━━━━━━━━━━━━━╇━━━━━━━━━━━━━━━━━━━━━━━━╇━━━━━━━━━━━━━━━┩\n",
       "│ lstm (\u001b[38;5;33mLSTM\u001b[0m)                     │ (\u001b[38;5;45mNone\u001b[0m, \u001b[38;5;34m50\u001b[0m)             │        \u001b[38;5;34m12,200\u001b[0m │\n",
       "├─────────────────────────────────┼────────────────────────┼───────────────┤\n",
       "│ dropout (\u001b[38;5;33mDropout\u001b[0m)               │ (\u001b[38;5;45mNone\u001b[0m, \u001b[38;5;34m50\u001b[0m)             │             \u001b[38;5;34m0\u001b[0m │\n",
       "├─────────────────────────────────┼────────────────────────┼───────────────┤\n",
       "│ dense (\u001b[38;5;33mDense\u001b[0m)                   │ (\u001b[38;5;45mNone\u001b[0m, \u001b[38;5;34m1\u001b[0m)              │            \u001b[38;5;34m51\u001b[0m │\n",
       "└─────────────────────────────────┴────────────────────────┴───────────────┘\n"
      ]
     },
     "metadata": {},
     "output_type": "display_data"
    },
    {
     "data": {
      "text/html": [
       "<pre style=\"white-space:pre;overflow-x:auto;line-height:normal;font-family:Menlo,'DejaVu Sans Mono',consolas,'Courier New',monospace\"><span style=\"font-weight: bold\"> Total params: </span><span style=\"color: #00af00; text-decoration-color: #00af00\">12,251</span> (47.86 KB)\n",
       "</pre>\n"
      ],
      "text/plain": [
       "\u001b[1m Total params: \u001b[0m\u001b[38;5;34m12,251\u001b[0m (47.86 KB)\n"
      ]
     },
     "metadata": {},
     "output_type": "display_data"
    },
    {
     "data": {
      "text/html": [
       "<pre style=\"white-space:pre;overflow-x:auto;line-height:normal;font-family:Menlo,'DejaVu Sans Mono',consolas,'Courier New',monospace\"><span style=\"font-weight: bold\"> Trainable params: </span><span style=\"color: #00af00; text-decoration-color: #00af00\">12,251</span> (47.86 KB)\n",
       "</pre>\n"
      ],
      "text/plain": [
       "\u001b[1m Trainable params: \u001b[0m\u001b[38;5;34m12,251\u001b[0m (47.86 KB)\n"
      ]
     },
     "metadata": {},
     "output_type": "display_data"
    },
    {
     "data": {
      "text/html": [
       "<pre style=\"white-space:pre;overflow-x:auto;line-height:normal;font-family:Menlo,'DejaVu Sans Mono',consolas,'Courier New',monospace\"><span style=\"font-weight: bold\"> Non-trainable params: </span><span style=\"color: #00af00; text-decoration-color: #00af00\">0</span> (0.00 B)\n",
       "</pre>\n"
      ],
      "text/plain": [
       "\u001b[1m Non-trainable params: \u001b[0m\u001b[38;5;34m0\u001b[0m (0.00 B)\n"
      ]
     },
     "metadata": {},
     "output_type": "display_data"
    }
   ],
   "source": [
    "# Define the model\n",
    "model = Sequential()\n",
    "\n",
    "model.add(LSTM(50, input_shape=(sequence_length, num_features)))  # Return sequences for stacked LSTM\n",
    "model.add(Dropout(0.2))  # Increase dropout rate\n",
    "\n",
    "# Add a Dense output layer with sigmoid activation for binary classification\n",
    "model.add(Dense(1, activation='sigmoid'))\n",
    "\n",
    "# Compile the model\n",
    "model.compile(loss='binary_crossentropy', optimizer='adam', metrics=['accuracy', Precision(), Recall()])\n",
    "\n",
    "# Print the model summary\n",
    "model.summary()"
   ]
  },
  {
   "cell_type": "code",
   "execution_count": 53,
   "metadata": {},
   "outputs": [
    {
     "name": "stdout",
     "output_type": "stream",
     "text": [
      "Epoch 1/20\n",
      "\u001b[1m101/101\u001b[0m \u001b[32m━━━━━━━━━━━━━━━━━━━━\u001b[0m\u001b[37m\u001b[0m \u001b[1m2s\u001b[0m 6ms/step - accuracy: 0.5007 - loss: 1.7701 - precision: 0.4991 - recall: 0.9857 - val_accuracy: 0.4994 - val_loss: 1.1625 - val_precision: 0.4994 - val_recall: 1.0000\n",
      "Epoch 2/20\n",
      "\u001b[1m101/101\u001b[0m \u001b[32m━━━━━━━━━━━━━━━━━━━━\u001b[0m\u001b[37m\u001b[0m \u001b[1m0s\u001b[0m 3ms/step - accuracy: 0.5116 - loss: 1.5190 - precision: 0.5116 - recall: 1.0000 - val_accuracy: 0.4994 - val_loss: 1.0917 - val_precision: 0.4994 - val_recall: 1.0000\n",
      "Epoch 3/20\n",
      "\u001b[1m101/101\u001b[0m \u001b[32m━━━━━━━━━━━━━━━━━━━━\u001b[0m\u001b[37m\u001b[0m \u001b[1m0s\u001b[0m 3ms/step - accuracy: 0.5011 - loss: 1.5222 - precision: 0.5011 - recall: 1.0000 - val_accuracy: 0.4994 - val_loss: 1.1209 - val_precision: 0.4994 - val_recall: 1.0000\n",
      "Epoch 4/20\n",
      "\u001b[1m101/101\u001b[0m \u001b[32m━━━━━━━━━━━━━━━━━━━━\u001b[0m\u001b[37m\u001b[0m \u001b[1m0s\u001b[0m 3ms/step - accuracy: 0.4940 - loss: 1.5255 - precision: 0.4939 - recall: 1.0000 - val_accuracy: 0.4994 - val_loss: 1.1290 - val_precision: 0.4994 - val_recall: 1.0000\n",
      "Epoch 5/20\n",
      "\u001b[1m101/101\u001b[0m \u001b[32m━━━━━━━━━━━━━━━━━━━━\u001b[0m\u001b[37m\u001b[0m \u001b[1m0s\u001b[0m 3ms/step - accuracy: 0.5147 - loss: 1.4826 - precision: 0.5141 - recall: 1.0000 - val_accuracy: 0.5006 - val_loss: 1.0180 - val_precision: 0.5000 - val_recall: 1.0000\n",
      "Epoch 6/20\n",
      "\u001b[1m101/101\u001b[0m \u001b[32m━━━━━━━━━━━━━━━━━━━━\u001b[0m\u001b[37m\u001b[0m \u001b[1m0s\u001b[0m 3ms/step - accuracy: 0.5050 - loss: 1.4830 - precision: 0.5037 - recall: 1.0000 - val_accuracy: 0.5031 - val_loss: 1.0840 - val_precision: 0.5012 - val_recall: 1.0000\n",
      "Epoch 7/20\n",
      "\u001b[1m101/101\u001b[0m \u001b[32m━━━━━━━━━━━━━━━━━━━━\u001b[0m\u001b[37m\u001b[0m \u001b[1m0s\u001b[0m 3ms/step - accuracy: 0.4960 - loss: 1.4911 - precision: 0.4947 - recall: 1.0000 - val_accuracy: 0.5031 - val_loss: 1.1351 - val_precision: 0.5012 - val_recall: 1.0000\n",
      "Epoch 8/20\n",
      "\u001b[1m101/101\u001b[0m \u001b[32m━━━━━━━━━━━━━━━━━━━━\u001b[0m\u001b[37m\u001b[0m \u001b[1m0s\u001b[0m 3ms/step - accuracy: 0.5171 - loss: 1.4558 - precision: 0.5151 - recall: 0.9999 - val_accuracy: 0.5081 - val_loss: 1.0315 - val_precision: 0.5038 - val_recall: 1.0000\n",
      "Epoch 9/20\n",
      "\u001b[1m101/101\u001b[0m \u001b[32m━━━━━━━━━━━━━━━━━━━━\u001b[0m\u001b[37m\u001b[0m \u001b[1m0s\u001b[0m 3ms/step - accuracy: 0.4911 - loss: 1.4626 - precision: 0.4864 - recall: 0.9996 - val_accuracy: 0.5056 - val_loss: 1.1008 - val_precision: 0.5025 - val_recall: 1.0000\n",
      "Epoch 10/20\n",
      "\u001b[1m101/101\u001b[0m \u001b[32m━━━━━━━━━━━━━━━━━━━━\u001b[0m\u001b[37m\u001b[0m \u001b[1m0s\u001b[0m 3ms/step - accuracy: 0.5069 - loss: 1.4530 - precision: 0.5036 - recall: 1.0000 - val_accuracy: 0.5081 - val_loss: 1.0128 - val_precision: 0.5038 - val_recall: 1.0000\n",
      "Epoch 11/20\n",
      "\u001b[1m101/101\u001b[0m \u001b[32m━━━━━━━━━━━━━━━━━━━━\u001b[0m\u001b[37m\u001b[0m \u001b[1m0s\u001b[0m 3ms/step - accuracy: 0.5025 - loss: 1.4543 - precision: 0.4927 - recall: 0.9998 - val_accuracy: 0.5130 - val_loss: 1.0035 - val_precision: 0.5063 - val_recall: 1.0000\n",
      "Epoch 12/20\n",
      "\u001b[1m101/101\u001b[0m \u001b[32m━━━━━━━━━━━━━━━━━━━━\u001b[0m\u001b[37m\u001b[0m \u001b[1m0s\u001b[0m 3ms/step - accuracy: 0.5192 - loss: 1.4113 - precision: 0.5125 - recall: 0.9989 - val_accuracy: 0.5155 - val_loss: 0.9504 - val_precision: 0.5076 - val_recall: 1.0000\n",
      "Epoch 13/20\n",
      "\u001b[1m101/101\u001b[0m \u001b[32m━━━━━━━━━━━━━━━━━━━━\u001b[0m\u001b[37m\u001b[0m \u001b[1m0s\u001b[0m 3ms/step - accuracy: 0.5266 - loss: 1.4049 - precision: 0.5144 - recall: 0.9987 - val_accuracy: 0.5291 - val_loss: 1.0216 - val_precision: 0.5147 - val_recall: 0.9975\n",
      "Epoch 14/20\n",
      "\u001b[1m101/101\u001b[0m \u001b[32m━━━━━━━━━━━━━━━━━━━━\u001b[0m\u001b[37m\u001b[0m \u001b[1m0s\u001b[0m 3ms/step - accuracy: 0.5418 - loss: 1.3610 - precision: 0.5274 - recall: 0.9984 - val_accuracy: 0.5353 - val_loss: 0.9782 - val_precision: 0.5181 - val_recall: 0.9950\n",
      "Epoch 15/20\n",
      "\u001b[1m101/101\u001b[0m \u001b[32m━━━━━━━━━━━━━━━━━━━━\u001b[0m\u001b[37m\u001b[0m \u001b[1m0s\u001b[0m 3ms/step - accuracy: 0.5344 - loss: 1.3579 - precision: 0.5071 - recall: 0.9945 - val_accuracy: 0.5266 - val_loss: 1.0454 - val_precision: 0.5134 - val_recall: 1.0000\n",
      "Epoch 16/20\n",
      "\u001b[1m101/101\u001b[0m \u001b[32m━━━━━━━━━━━━━━━━━━━━\u001b[0m\u001b[37m\u001b[0m \u001b[1m0s\u001b[0m 3ms/step - accuracy: 0.5302 - loss: 1.3327 - precision: 0.5116 - recall: 0.9976 - val_accuracy: 0.5378 - val_loss: 0.9612 - val_precision: 0.5194 - val_recall: 0.9950\n",
      "Epoch 17/20\n",
      "\u001b[1m101/101\u001b[0m \u001b[32m━━━━━━━━━━━━━━━━━━━━\u001b[0m\u001b[37m\u001b[0m \u001b[1m0s\u001b[0m 2ms/step - accuracy: 0.5511 - loss: 1.3009 - precision: 0.5298 - recall: 0.9984 - val_accuracy: 0.5539 - val_loss: 0.9533 - val_precision: 0.5283 - val_recall: 0.9950\n",
      "Epoch 18/20\n",
      "\u001b[1m101/101\u001b[0m \u001b[32m━━━━━━━━━━━━━━━━━━━━\u001b[0m\u001b[37m\u001b[0m \u001b[1m0s\u001b[0m 3ms/step - accuracy: 0.5508 - loss: 1.3009 - precision: 0.5279 - recall: 0.9973 - val_accuracy: 0.5502 - val_loss: 0.8776 - val_precision: 0.5262 - val_recall: 0.9950\n",
      "Epoch 19/20\n",
      "\u001b[1m101/101\u001b[0m \u001b[32m━━━━━━━━━━━━━━━━━━━━\u001b[0m\u001b[37m\u001b[0m \u001b[1m0s\u001b[0m 3ms/step - accuracy: 0.5609 - loss: 1.2832 - precision: 0.5301 - recall: 0.9971 - val_accuracy: 0.5428 - val_loss: 0.9138 - val_precision: 0.5221 - val_recall: 0.9975\n",
      "Epoch 20/20\n",
      "\u001b[1m101/101\u001b[0m \u001b[32m━━━━━━━━━━━━━━━━━━━━\u001b[0m\u001b[37m\u001b[0m \u001b[1m0s\u001b[0m 3ms/step - accuracy: 0.5539 - loss: 1.2686 - precision: 0.5261 - recall: 0.9968 - val_accuracy: 0.5576 - val_loss: 0.8224 - val_precision: 0.5306 - val_recall: 0.9901\n"
     ]
    }
   ],
   "source": [
    "history = model.fit(\n",
    "    X_train_LSTM, y_train_LSTM,\n",
    "    epochs=20,  # Number of training iterations\n",
    "    batch_size=32,  # Number of samples per gradient update\n",
    "    validation_data=(X_test_LSTM, y_test_LSTM),  # Evaluate on the test set during training\n",
    "    class_weight = {0:1,1:8} # treats instances of 1 as 8 instances\n",
    ")\n"
   ]
  },
  {
   "cell_type": "code",
   "execution_count": 55,
   "metadata": {},
   "outputs": [
    {
     "name": "stdout",
     "output_type": "stream",
     "text": [
      "\u001b[1m26/26\u001b[0m \u001b[32m━━━━━━━━━━━━━━━━━━━━\u001b[0m\u001b[37m\u001b[0m \u001b[1m0s\u001b[0m 2ms/step - accuracy: 0.5503 - loss: 0.8384 - precision: 0.5246 - recall: 0.9825 \n"
     ]
    },
    {
     "ename": "ValueError",
     "evalue": "too many values to unpack (expected 2)",
     "output_type": "error",
     "traceback": [
      "\u001b[1;31m---------------------------------------------------------------------------\u001b[0m",
      "\u001b[1;31mValueError\u001b[0m                                Traceback (most recent call last)",
      "Cell \u001b[1;32mIn[55], line 1\u001b[0m\n\u001b[1;32m----> 1\u001b[0m loss, accuracy \u001b[38;5;241m=\u001b[39m model\u001b[38;5;241m.\u001b[39mevaluate(X_test_LSTM, y_test_LSTM)\n\u001b[0;32m      2\u001b[0m \u001b[38;5;28mprint\u001b[39m(\u001b[38;5;124mf\u001b[39m\u001b[38;5;124m'\u001b[39m\u001b[38;5;124mTest Loss: \u001b[39m\u001b[38;5;132;01m{\u001b[39;00mloss\u001b[38;5;132;01m}\u001b[39;00m\u001b[38;5;124m'\u001b[39m)\n\u001b[0;32m      3\u001b[0m \u001b[38;5;28mprint\u001b[39m(\u001b[38;5;124mf\u001b[39m\u001b[38;5;124m'\u001b[39m\u001b[38;5;124mTest Accuracy: \u001b[39m\u001b[38;5;132;01m{\u001b[39;00maccuracy\u001b[38;5;132;01m}\u001b[39;00m\u001b[38;5;124m'\u001b[39m)\n",
      "\u001b[1;31mValueError\u001b[0m: too many values to unpack (expected 2)"
     ]
    }
   ],
   "source": [
    "loss, accuracy = model.evaluate(X_test_LSTM, y_test_LSTM)\n",
    "print(f'Test Loss: {loss}')\n",
    "print(f'Test Accuracy: {accuracy}')"
   ]
  },
  {
   "cell_type": "code",
   "execution_count": 56,
   "metadata": {},
   "outputs": [
    {
     "name": "stdout",
     "output_type": "stream",
     "text": [
      "\u001b[1m26/26\u001b[0m \u001b[32m━━━━━━━━━━━━━━━━━━━━\u001b[0m\u001b[37m\u001b[0m \u001b[1m0s\u001b[0m 5ms/step\n"
     ]
    }
   ],
   "source": [
    "LSTMpredictions = model.predict(X_test_LSTM)"
   ]
  },
  {
   "cell_type": "code",
   "execution_count": 57,
   "metadata": {},
   "outputs": [
    {
     "name": "stdout",
     "output_type": "stream",
     "text": [
      "Predictions: [0 1 1 ... 0 1 1]\n",
      "Accuracy: 0.9906976744186047\n",
      "Precision: 1.0\n",
      "Recall: 0.981401115933044\n",
      "F1 Score: 0.990613266583229\n",
      "Confusion Matrix:\n",
      " [[1612    0]\n",
      " [  30 1583]]\n",
      "\n",
      "Classification Report:\n",
      "               precision    recall  f1-score   support\n",
      "\n",
      "           0       0.98      1.00      0.99      1612\n",
      "           1       1.00      0.98      0.99      1613\n",
      "\n",
      "    accuracy                           0.99      3225\n",
      "   macro avg       0.99      0.99      0.99      3225\n",
      "weighted avg       0.99      0.99      0.99      3225\n",
      "\n"
     ]
    }
   ],
   "source": [
    "# Train an XGBoost model\n",
    "model = xgb.XGBClassifier(objective='binary:logistic', eval_metric='logloss')\n",
    "model.fit(X_train_BOOST, y_train_BOOST)\n",
    "\n",
    "# Make predictions\n",
    "predictions = model.predict(X_train_BOOST)\n",
    "\n",
    "# Evaluate the model performance\n",
    "accuracy = accuracy_score(y_train_BOOST, predictions)\n",
    "precision = precision_score(y_train_BOOST, predictions)\n",
    "recall = recall_score(y_train_BOOST, predictions)\n",
    "f1 = f1_score(y_train_BOOST, predictions)\n",
    "conf_matrix = confusion_matrix(y_train_BOOST, predictions)\n",
    "\n",
    "# Print results\n",
    "print(\"Predictions:\", predictions)\n",
    "print(\"Accuracy:\", accuracy)\n",
    "print(\"Precision:\", precision)\n",
    "print(\"Recall:\", recall)\n",
    "print(\"F1 Score:\", f1)\n",
    "print(\"Confusion Matrix:\\n\", conf_matrix)\n",
    "\n",
    "# Optional: Detailed classification report\n",
    "print(\"\\nClassification Report:\\n\", classification_report(y_train_BOOST, predictions))"
   ]
  }
 ],
 "metadata": {
  "kernelspec": {
   "display_name": "Python 3",
   "language": "python",
   "name": "python3"
  },
  "language_info": {
   "codemirror_mode": {
    "name": "ipython",
    "version": 3
   },
   "file_extension": ".py",
   "mimetype": "text/x-python",
   "name": "python",
   "nbconvert_exporter": "python",
   "pygments_lexer": "ipython3",
   "version": "3.11.9"
  }
 },
 "nbformat": 4,
 "nbformat_minor": 2
}
