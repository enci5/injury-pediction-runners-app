{
 "cells": [
  {
   "cell_type": "code",
   "execution_count": 1,
   "metadata": {},
   "outputs": [],
   "source": [
    "import numpy as np\n",
    "import pandas as pd\n",
    "import xgboost as xgb\n",
    "import matplotlib.pyplot as plt\n",
    "from sklearn.metrics import accuracy_score, precision_score, recall_score, f1_score, confusion_matrix, classification_report\n",
    "from sklearn.model_selection import train_test_split\n",
    "from tensorflow.keras.models import Sequential\n",
    "from tensorflow.keras.layers import LSTM, Dense, Dropout\n",
    "from tensorflow.keras.metrics import Precision, Recall"
   ]
  },
  {
   "cell_type": "code",
   "execution_count": 17,
   "metadata": {},
   "outputs": [
    {
     "name": "stdout",
     "output_type": "stream",
     "text": [
      "       nr. sessions  nr. rest days  total kms  max km one day  \\\n",
      "0               5.0            2.0       22.2            16.4   \n",
      "1               5.0            2.0       21.6            16.4   \n",
      "2               5.0            2.0       21.6            16.4   \n",
      "3               5.0            2.0       21.6            16.4   \n",
      "4               6.0            1.0       39.2            17.6   \n",
      "...             ...            ...        ...             ...   \n",
      "42793           4.0            3.0       59.5            19.0   \n",
      "42794           1.0            6.0        5.8             5.8   \n",
      "42795           3.0            4.0       38.3            16.0   \n",
      "42796           5.0            2.0       67.0            15.1   \n",
      "42797           4.0            3.0       45.0            12.2   \n",
      "\n",
      "       total km Z3-Z4-Z5-T1-T2  nr. tough sessions (effort in Z5, T1 or T2)  \\\n",
      "0                         11.8                                          1.0   \n",
      "1                         11.7                                          1.0   \n",
      "2                         11.7                                          1.0   \n",
      "3                         11.7                                          1.0   \n",
      "4                         18.9                                          1.0   \n",
      "...                        ...                                          ...   \n",
      "42793                      0.0                                          0.0   \n",
      "42794                      0.0                                          0.0   \n",
      "42795                      0.0                                          0.0   \n",
      "42796                      0.0                                          0.0   \n",
      "42797                      0.0                                          0.0   \n",
      "\n",
      "       nr. days with interval session  total km Z3-4  max km Z3-4 one day  \\\n",
      "0                                 2.0           10.0                 10.0   \n",
      "1                                 2.0           10.0                 10.0   \n",
      "2                                 2.0           10.0                 10.0   \n",
      "3                                 2.0           10.0                 10.0   \n",
      "4                                 3.0           17.2                 10.0   \n",
      "...                               ...            ...                  ...   \n",
      "42793                             0.0            0.0                  0.0   \n",
      "42794                             0.0            0.0                  0.0   \n",
      "42795                             0.0            0.0                  0.0   \n",
      "42796                             0.0            0.0                  0.0   \n",
      "42797                             0.0            0.0                  0.0   \n",
      "\n",
      "       total km Z5-T1-T2  ...  max training success.2  avg recovery.2  \\\n",
      "0                    0.6  ...                    0.00            0.18   \n",
      "1                    0.5  ...                    0.00            0.18   \n",
      "2                    0.5  ...                    0.00            0.17   \n",
      "3                    0.5  ...                    0.00            0.18   \n",
      "4                    0.5  ...                    0.00            0.17   \n",
      "...                  ...  ...                     ...             ...   \n",
      "42793                0.0  ...                    0.80            0.20   \n",
      "42794                0.0  ...                    0.85            0.12   \n",
      "42795                0.0  ...                    0.93            0.32   \n",
      "42796                0.0  ...                    0.91            0.28   \n",
      "42797                0.0  ...                    0.88            0.16   \n",
      "\n",
      "       min recovery.2  max recovery.2  Athlete ID  injury  \\\n",
      "0                0.16            0.20           0       0   \n",
      "1                0.16            0.20           0       0   \n",
      "2                0.16            0.18           0       0   \n",
      "3                0.16            0.18           0       0   \n",
      "4                0.16            0.18           0       0   \n",
      "...               ...             ...         ...     ...   \n",
      "42793            0.12            0.26          71       1   \n",
      "42794            0.12            0.12          71       1   \n",
      "42795            0.17            0.62          71       1   \n",
      "42796            0.22            0.41          71       1   \n",
      "42797            0.05            0.21          71       1   \n",
      "\n",
      "       rel total kms week 0_1  rel total kms week 0_2  rel total kms week 1_2  \\\n",
      "0                    0.718447                1.378882                1.919255   \n",
      "1                    0.683544                1.018868                1.490566   \n",
      "2                    0.683544                1.018868                1.490566   \n",
      "3                    0.683544                1.018868                1.490566   \n",
      "4                    2.202247                1.361111                0.618056   \n",
      "...                       ...                     ...                     ...   \n",
      "42793                2.479167                1.101852                0.444444   \n",
      "42794                1.054545                1.288889                1.222222   \n",
      "42795                0.750980                0.743689                0.990291   \n",
      "42796                2.005988                1.238447                0.617375   \n",
      "42797                1.011236                1.022727                1.011364   \n",
      "\n",
      "       Date  \n",
      "0         0  \n",
      "1         1  \n",
      "2         2  \n",
      "3         3  \n",
      "4         4  \n",
      "...     ...  \n",
      "42793  2143  \n",
      "42794  2286  \n",
      "42795  2483  \n",
      "42796  2647  \n",
      "42797  2673  \n",
      "\n",
      "[42798 rows x 72 columns]\n"
     ]
    }
   ],
   "source": [
    "# Load the dataset\n",
    "url = r\"D:\\Computer science\\Year 3\\Project COM3001\\The App\\Models\\week_approach_maskedID_timeseries.csv\"\n",
    "data = pd.read_csv(url)\n",
    "print(data)"
   ]
  },
  {
   "cell_type": "code",
   "execution_count": 23,
   "metadata": {},
   "outputs": [
    {
     "name": "stdout",
     "output_type": "stream",
     "text": [
      "Shape of input for LSTM: (42798, 3, 22)\n",
      "Shape of input for XGBOOST: (42798, 66)\n"
     ]
    }
   ],
   "source": [
    "feature_columns_week = [\n",
    "    'nr. sessions', 'nr. rest days', 'total kms', 'max km one day', 'total km Z3-Z4-Z5-T1-T2', \n",
    "    'nr. tough sessions (effort in Z5, T1 or T2)', 'nr. days with interval session', 'total km Z3-4', 'max km Z3-4 one day',\n",
    "    'total km Z5-T1-T2', 'max km Z5-T1-T2 one day', 'total hours alternative training', \n",
    "    'nr. strength trainings', 'avg exertion', 'min exertion', 'max exertion', \n",
    "    'avg training success', 'min training success', 'max training success', \n",
    "    'avg recovery', 'min recovery', 'max recovery',\n",
    "\n",
    "    'nr. sessions.1', 'nr. rest days.1', 'total kms.1', 'max km one day.1', 'total km Z3-Z4-Z5-T1-T2.1',\n",
    "    'nr. tough sessions (effort in Z5, T1 or T2).1', 'nr. days with interval session.1', 'total km Z3-4.1', 'max km Z3-4 one day.1',\n",
    "    'total km Z5-T1-T2.1', 'max km Z5-T1-T2 one day.1', 'total hours alternative training.1', \n",
    "    'nr. strength trainings.1', 'avg exertion.1', 'min exertion.1', 'max exertion.1', \n",
    "    'avg training success.1', 'min training success.1', 'max training success.1', \n",
    "    'avg recovery.1', 'min recovery.1', 'max recovery.1',\n",
    "\n",
    "    'nr. sessions.2', 'nr. rest days.2', 'total kms.2', 'max km one day.2', 'total km Z3-Z4-Z5-T1-T2.2',\n",
    "    'nr. tough sessions (effort in Z5, T1 or T2).2', 'nr. days with interval session.2', 'total km Z3-4.2', 'max km Z3-4 one day.2',\n",
    "    'total km Z5-T1-T2.2', 'max km Z5-T1-T2 one day.2', 'total hours alternative training.2', \n",
    "    'nr. strength trainings.2', 'avg exertion.2', 'min exertion.2', 'max exertion.2', \n",
    "    'avg training success.2', 'min training success.2', 'max training success.2', \n",
    "    'avg recovery.2', 'min recovery.2', 'max recovery.2'\n",
    "]\n",
    "\n",
    "target_column = 'injury'\n",
    "\n",
    "# Extract features and target\n",
    "X = data[feature_columns_week].values\n",
    "Y = data[target_column].values\n",
    "\n",
    "# Reshape X for LSTM input\n",
    "sequence_length = 3  # 3 weeks\n",
    "num_features = len(feature_columns_week) // sequence_length  # Number of features per day\n",
    "X_LSTM = X.reshape(-1, sequence_length, num_features)\n",
    "Y_LSTM = Y\n",
    "\n",
    "# XGBOOST input\n",
    "X_XGBOOST = X\n",
    "Y_XGBOOST = Y\n",
    "\n",
    "print(f\"Shape of input for LSTM: {X_LSTM.shape}\")  # (num_samples, 7, num_features)\n",
    "print(f\"Shape of input for XGBOOST: {X_XGBOOST.shape}\")"
   ]
  },
  {
   "cell_type": "code",
   "execution_count": 24,
   "metadata": {},
   "outputs": [],
   "source": [
    "X_train_LSTM, X_test_LSTM, Y_train_LSTM, Y_test_LSTM = train_test_split(X_LSTM, Y_LSTM, test_size=0.2, random_state=42)\n",
    "X_train_BOOST, X_test_BOOST, Y_train_BOOST, Y_test_BOOST = train_test_split(X_XGBOOST, Y_XGBOOST, test_size=0.2, random_state=42)"
   ]
  },
  {
   "cell_type": "code",
   "execution_count": 25,
   "metadata": {},
   "outputs": [
    {
     "name": "stdout",
     "output_type": "stream",
     "text": [
      "575\n",
      "42223\n"
     ]
    },
    {
     "data": {
      "image/png": "[encoded data removed]",
      "text/plain": [
       "<Figure size 800x600 with 1 Axes>"
      ]
     },
     "metadata": {},
     "output_type": "display_data"
    }
   ],
   "source": [
    "# It counts the first occurance as to the first variable\n",
    "noninjury, injury = np.bincount(Y)\n",
    "print(injury)\n",
    "print(noninjury)\n",
    "\n",
    "# Labels for the classes\n",
    "labels = ['Injury', 'Non-Injury']\n",
    "counts = [injury, noninjury]\n",
    "\n",
    "# Plotting the bar chart\n",
    "plt.figure(figsize=(8, 6))  # Set the size of the figure\n",
    "plt.bar(labels, counts, color=['red', 'green'])  # Color for each class\n",
    "plt.xlabel('Class')\n",
    "plt.ylabel('Count')\n",
    "plt.title('Class Distribution: Injury vs Non-Injury')\n",
    "\n",
    "# Display the plot\n",
    "plt.show()\n"
   ]
  },
  {
   "cell_type": "code",
   "execution_count": 26,
   "metadata": {},
   "outputs": [
    {
     "name": "stderr",
     "output_type": "stream",
     "text": [
      "c:\\Users\\ench0\\AppData\\Local\\Programs\\Python\\Python311\\Lib\\site-packages\\keras\\src\\layers\\rnn\\rnn.py:200: UserWarning: Do not pass an `input_shape`/`input_dim` argument to a layer. When using Sequential models, prefer using an `Input(shape)` object as the first layer in the model instead.\n",
      "  super().__init__(**kwargs)\n"
     ]
    },
    {
     "data": {
      "text/html": [
       "<pre style=\"white-space:pre;overflow-x:auto;line-height:normal;font-family:Menlo,'DejaVu Sans Mono',consolas,'Courier New',monospace\"><span style=\"font-weight: bold\">Model: \"sequential\"</span>\n",
       "</pre>\n"
      ],
      "text/plain": [
       "\u001b[1mModel: \"sequential\"\u001b[0m\n"
      ]
     },
     "metadata": {},
     "output_type": "display_data"
    },
    {
     "data": {
      "text/html": [
       "<pre style=\"white-space:pre;overflow-x:auto;line-height:normal;font-family:Menlo,'DejaVu Sans Mono',consolas,'Courier New',monospace\">┏━━━━━━━━━━━━━━━━━━━━━━━━━━━━━━━━━┳━━━━━━━━━━━━━━━━━━━━━━━━┳━━━━━━━━━━━━━━━┓\n",
       "┃<span style=\"font-weight: bold\"> Layer (type)                    </span>┃<span style=\"font-weight: bold\"> Output Shape           </span>┃<span style=\"font-weight: bold\">       Param # </span>┃\n",
       "┡━━━━━━━━━━━━━━━━━━━━━━━━━━━━━━━━━╇━━━━━━━━━━━━━━━━━━━━━━━━╇━━━━━━━━━━━━━━━┩\n",
       "│ lstm (<span style=\"color: #0087ff; text-decoration-color: #0087ff\">LSTM</span>)                     │ (<span style=\"color: #00d7ff; text-decoration-color: #00d7ff\">None</span>, <span style=\"color: #00af00; text-decoration-color: #00af00\">50</span>)             │        <span style=\"color: #00af00; text-decoration-color: #00af00\">14,600</span> │\n",
       "├─────────────────────────────────┼────────────────────────┼───────────────┤\n",
       "│ dropout (<span style=\"color: #0087ff; text-decoration-color: #0087ff\">Dropout</span>)               │ (<span style=\"color: #00d7ff; text-decoration-color: #00d7ff\">None</span>, <span style=\"color: #00af00; text-decoration-color: #00af00\">50</span>)             │             <span style=\"color: #00af00; text-decoration-color: #00af00\">0</span> │\n",
       "├─────────────────────────────────┼────────────────────────┼───────────────┤\n",
       "│ dense (<span style=\"color: #0087ff; text-decoration-color: #0087ff\">Dense</span>)                   │ (<span style=\"color: #00d7ff; text-decoration-color: #00d7ff\">None</span>, <span style=\"color: #00af00; text-decoration-color: #00af00\">1</span>)              │            <span style=\"color: #00af00; text-decoration-color: #00af00\">51</span> │\n",
       "└─────────────────────────────────┴────────────────────────┴───────────────┘\n",
       "</pre>\n"
      ],
      "text/plain": [
       "┏━━━━━━━━━━━━━━━━━━━━━━━━━━━━━━━━━┳━━━━━━━━━━━━━━━━━━━━━━━━┳━━━━━━━━━━━━━━━┓\n",
       "┃\u001b[1m \u001b[0m\u001b[1mLayer (type)                   \u001b[0m\u001b[1m \u001b[0m┃\u001b[1m \u001b[0m\u001b[1mOutput Shape          \u001b[0m\u001b[1m \u001b[0m┃\u001b[1m \u001b[0m\u001b[1m      Param #\u001b[0m\u001b[1m \u001b[0m┃\n",
       "┡━━━━━━━━━━━━━━━━━━━━━━━━━━━━━━━━━╇━━━━━━━━━━━━━━━━━━━━━━━━╇━━━━━━━━━━━━━━━┩\n",
       "│ lstm (\u001b[38;5;33mLSTM\u001b[0m)                     │ (\u001b[38;5;45mNone\u001b[0m, \u001b[38;5;34m50\u001b[0m)             │        \u001b[38;5;34m14,600\u001b[0m │\n",
       "├─────────────────────────────────┼────────────────────────┼───────────────┤\n",
       "│ dropout (\u001b[38;5;33mDropout\u001b[0m)               │ (\u001b[38;5;45mNone\u001b[0m, \u001b[38;5;34m50\u001b[0m)             │             \u001b[38;5;34m0\u001b[0m │\n",
       "├─────────────────────────────────┼────────────────────────┼───────────────┤\n",
       "│ dense (\u001b[38;5;33mDense\u001b[0m)                   │ (\u001b[38;5;45mNone\u001b[0m, \u001b[38;5;34m1\u001b[0m)              │            \u001b[38;5;34m51\u001b[0m │\n",
       "└─────────────────────────────────┴────────────────────────┴───────────────┘\n"
      ]
     },
     "metadata": {},
     "output_type": "display_data"
    },
    {
     "data": {
      "text/html": [
       "<pre style=\"white-space:pre;overflow-x:auto;line-height:normal;font-family:Menlo,'DejaVu Sans Mono',consolas,'Courier New',monospace\"><span style=\"font-weight: bold\"> Total params: </span><span style=\"color: #00af00; text-decoration-color: #00af00\">14,651</span> (57.23 KB)\n",
       "</pre>\n"
      ],
      "text/plain": [
       "\u001b[1m Total params: \u001b[0m\u001b[38;5;34m14,651\u001b[0m (57.23 KB)\n"
      ]
     },
     "metadata": {},
     "output_type": "display_data"
    },
    {
     "data": {
      "text/html": [
       "<pre style=\"white-space:pre;overflow-x:auto;line-height:normal;font-family:Menlo,'DejaVu Sans Mono',consolas,'Courier New',monospace\"><span style=\"font-weight: bold\"> Trainable params: </span><span style=\"color: #00af00; text-decoration-color: #00af00\">14,651</span> (57.23 KB)\n",
       "</pre>\n"
      ],
      "text/plain": [
       "\u001b[1m Trainable params: \u001b[0m\u001b[38;5;34m14,651\u001b[0m (57.23 KB)\n"
      ]
     },
     "metadata": {},
     "output_type": "display_data"
    },
    {
     "data": {
      "text/html": [
       "<pre style=\"white-space:pre;overflow-x:auto;line-height:normal;font-family:Menlo,'DejaVu Sans Mono',consolas,'Courier New',monospace\"><span style=\"font-weight: bold\"> Non-trainable params: </span><span style=\"color: #00af00; text-decoration-color: #00af00\">0</span> (0.00 B)\n",
       "</pre>\n"
      ],
      "text/plain": [
       "\u001b[1m Non-trainable params: \u001b[0m\u001b[38;5;34m0\u001b[0m (0.00 B)\n"
      ]
     },
     "metadata": {},
     "output_type": "display_data"
    }
   ],
   "source": [
    "# Define the model\n",
    "model = Sequential()\n",
    "\n",
    "model.add(LSTM(50, input_shape=(sequence_length, num_features)))  # Return sequences for stacked LSTM\n",
    "model.add(Dropout(0.2))  # Increase dropout rate\n",
    "\n",
    "# Add a Dense output layer with sigmoid activation for binary classification\n",
    "model.add(Dense(1, activation='sigmoid'))\n",
    "\n",
    "# Compile the model\n",
    "model.compile(loss='binary_crossentropy', optimizer='adam', metrics=['accuracy', Precision(), Recall()])\n",
    "\n",
    "# Print the model summary\n",
    "model.summary()"
   ]
  },
  {
   "cell_type": "code",
   "execution_count": 27,
   "metadata": {},
   "outputs": [
    {
     "name": "stdout",
     "output_type": "stream",
     "text": [
      "Epoch 1/20\n",
      "\u001b[1m1070/1070\u001b[0m \u001b[32m━━━━━━━━━━━━━━━━━━━━\u001b[0m\u001b[37m\u001b[0m \u001b[1m3s\u001b[0m 2ms/step - accuracy: 0.9787 - loss: 0.3926 - precision: 0.0231 - recall: 0.0083 - val_accuracy: 0.9875 - val_loss: 0.1537 - val_precision: 0.0000e+00 - val_recall: 0.0000e+00\n",
      "Epoch 2/20\n",
      "\u001b[1m1070/1070\u001b[0m \u001b[32m━━━━━━━━━━━━━━━━━━━━\u001b[0m\u001b[37m\u001b[0m \u001b[1m2s\u001b[0m 2ms/step - accuracy: 0.9871 - loss: 0.3414 - precision: 0.0000e+00 - recall: 0.0000e+00 - val_accuracy: 0.9875 - val_loss: 0.1381 - val_precision: 0.0000e+00 - val_recall: 0.0000e+00\n",
      "Epoch 3/20\n",
      "\u001b[1m1070/1070\u001b[0m \u001b[32m━━━━━━━━━━━━━━━━━━━━\u001b[0m\u001b[37m\u001b[0m \u001b[1m2s\u001b[0m 2ms/step - accuracy: 0.9866 - loss: 0.3376 - precision: 0.0000e+00 - recall: 0.0000e+00 - val_accuracy: 0.9875 - val_loss: 0.1443 - val_precision: 0.0000e+00 - val_recall: 0.0000e+00\n",
      "Epoch 4/20\n",
      "\u001b[1m1070/1070\u001b[0m \u001b[32m━━━━━━━━━━━━━━━━━━━━\u001b[0m\u001b[37m\u001b[0m \u001b[1m2s\u001b[0m 2ms/step - accuracy: 0.9856 - loss: 0.3541 - precision: 0.0000e+00 - recall: 0.0000e+00 - val_accuracy: 0.9875 - val_loss: 0.1422 - val_precision: 0.0000e+00 - val_recall: 0.0000e+00\n",
      "Epoch 5/20\n",
      "\u001b[1m1070/1070\u001b[0m \u001b[32m━━━━━━━━━━━━━━━━━━━━\u001b[0m\u001b[37m\u001b[0m \u001b[1m2s\u001b[0m 2ms/step - accuracy: 0.9862 - loss: 0.3433 - precision: 0.0000e+00 - recall: 0.0000e+00 - val_accuracy: 0.9875 - val_loss: 0.1226 - val_precision: 0.0000e+00 - val_recall: 0.0000e+00\n",
      "Epoch 6/20\n",
      "\u001b[1m1070/1070\u001b[0m \u001b[32m━━━━━━━━━━━━━━━━━━━━\u001b[0m\u001b[37m\u001b[0m \u001b[1m4s\u001b[0m 4ms/step - accuracy: 0.9857 - loss: 0.3508 - precision: 0.0000e+00 - recall: 0.0000e+00 - val_accuracy: 0.9875 - val_loss: 0.1264 - val_precision: 0.0000e+00 - val_recall: 0.0000e+00\n",
      "Epoch 7/20\n",
      "\u001b[1m1070/1070\u001b[0m \u001b[32m━━━━━━━━━━━━━━━━━━━━\u001b[0m\u001b[37m\u001b[0m \u001b[1m5s\u001b[0m 3ms/step - accuracy: 0.9862 - loss: 0.3402 - precision: 0.0000e+00 - recall: 0.0000e+00 - val_accuracy: 0.9875 - val_loss: 0.1264 - val_precision: 0.0000e+00 - val_recall: 0.0000e+00\n",
      "Epoch 8/20\n",
      "\u001b[1m1070/1070\u001b[0m \u001b[32m━━━━━━━━━━━━━━━━━━━━\u001b[0m\u001b[37m\u001b[0m \u001b[1m4s\u001b[0m 3ms/step - accuracy: 0.9857 - loss: 0.3456 - precision: 0.4935 - recall: 0.0016 - val_accuracy: 0.9875 - val_loss: 0.1220 - val_precision: 0.0000e+00 - val_recall: 0.0000e+00\n",
      "Epoch 9/20\n",
      "\u001b[1m1070/1070\u001b[0m \u001b[32m━━━━━━━━━━━━━━━━━━━━\u001b[0m\u001b[37m\u001b[0m \u001b[1m4s\u001b[0m 3ms/step - accuracy: 0.9868 - loss: 0.3237 - precision: 0.0969 - recall: 8.4590e-04 - val_accuracy: 0.9875 - val_loss: 0.1208 - val_precision: 0.0000e+00 - val_recall: 0.0000e+00\n",
      "Epoch 10/20\n",
      "\u001b[1m1070/1070\u001b[0m \u001b[32m━━━━━━━━━━━━━━━━━━━━\u001b[0m\u001b[37m\u001b[0m \u001b[1m4s\u001b[0m 3ms/step - accuracy: 0.9861 - loss: 0.3382 - precision: 0.8364 - recall: 0.0121 - val_accuracy: 0.9875 - val_loss: 0.1158 - val_precision: 0.0000e+00 - val_recall: 0.0000e+00\n",
      "Epoch 11/20\n",
      "\u001b[1m1070/1070\u001b[0m \u001b[32m━━━━━━━━━━━━━━━━━━━━\u001b[0m\u001b[37m\u001b[0m \u001b[1m5s\u001b[0m 3ms/step - accuracy: 0.9860 - loss: 0.3374 - precision: 0.4382 - recall: 0.0049 - val_accuracy: 0.9875 - val_loss: 0.1437 - val_precision: 0.0000e+00 - val_recall: 0.0000e+00\n",
      "Epoch 12/20\n",
      "\u001b[1m1070/1070\u001b[0m \u001b[32m━━━━━━━━━━━━━━━━━━━━\u001b[0m\u001b[37m\u001b[0m \u001b[1m4s\u001b[0m 3ms/step - accuracy: 0.9860 - loss: 0.3355 - precision: 0.5207 - recall: 0.0110 - val_accuracy: 0.9875 - val_loss: 0.1119 - val_precision: 0.0000e+00 - val_recall: 0.0000e+00\n",
      "Epoch 13/20\n",
      "\u001b[1m1070/1070\u001b[0m \u001b[32m━━━━━━━━━━━━━━━━━━━━\u001b[0m\u001b[37m\u001b[0m \u001b[1m4s\u001b[0m 3ms/step - accuracy: 0.9866 - loss: 0.3215 - precision: 0.3782 - recall: 0.0074 - val_accuracy: 0.9875 - val_loss: 0.1250 - val_precision: 0.0000e+00 - val_recall: 0.0000e+00\n",
      "Epoch 14/20\n",
      "\u001b[1m1070/1070\u001b[0m \u001b[32m━━━━━━━━━━━━━━━━━━━━\u001b[0m\u001b[37m\u001b[0m \u001b[1m4s\u001b[0m 4ms/step - accuracy: 0.9863 - loss: 0.3258 - precision: 0.4189 - recall: 0.0254 - val_accuracy: 0.9875 - val_loss: 0.1193 - val_precision: 0.0000e+00 - val_recall: 0.0000e+00\n",
      "Epoch 15/20\n",
      "\u001b[1m1070/1070\u001b[0m \u001b[32m━━━━━━━━━━━━━━━━━━━━\u001b[0m\u001b[37m\u001b[0m \u001b[1m4s\u001b[0m 4ms/step - accuracy: 0.9870 - loss: 0.3121 - precision: 0.3373 - recall: 0.0092 - val_accuracy: 0.9843 - val_loss: 0.1897 - val_precision: 0.0000e+00 - val_recall: 0.0000e+00\n",
      "Epoch 16/20\n",
      "\u001b[1m1070/1070\u001b[0m \u001b[32m━━━━━━━━━━━━━━━━━━━━\u001b[0m\u001b[37m\u001b[0m \u001b[1m4s\u001b[0m 3ms/step - accuracy: 0.9860 - loss: 0.3376 - precision: 0.7726 - recall: 0.0273 - val_accuracy: 0.9867 - val_loss: 0.1420 - val_precision: 0.0000e+00 - val_recall: 0.0000e+00\n",
      "Epoch 17/20\n",
      "\u001b[1m1070/1070\u001b[0m \u001b[32m━━━━━━━━━━━━━━━━━━━━\u001b[0m\u001b[37m\u001b[0m \u001b[1m5s\u001b[0m 4ms/step - accuracy: 0.9867 - loss: 0.3164 - precision: 0.3714 - recall: 0.0237 - val_accuracy: 0.9874 - val_loss: 0.1135 - val_precision: 0.0000e+00 - val_recall: 0.0000e+00\n",
      "Epoch 18/20\n",
      "\u001b[1m1070/1070\u001b[0m \u001b[32m━━━━━━━━━━━━━━━━━━━━\u001b[0m\u001b[37m\u001b[0m \u001b[1m4s\u001b[0m 4ms/step - accuracy: 0.9871 - loss: 0.2995 - precision: 0.2295 - recall: 0.0179 - val_accuracy: 0.9869 - val_loss: 0.1364 - val_precision: 0.0000e+00 - val_recall: 0.0000e+00\n",
      "Epoch 19/20\n",
      "\u001b[1m1070/1070\u001b[0m \u001b[32m━━━━━━━━━━━━━━━━━━━━\u001b[0m\u001b[37m\u001b[0m \u001b[1m4s\u001b[0m 3ms/step - accuracy: 0.9851 - loss: 0.3240 - precision: 0.2194 - recall: 0.0193 - val_accuracy: 0.9873 - val_loss: 0.1101 - val_precision: 0.0000e+00 - val_recall: 0.0000e+00\n",
      "Epoch 20/20\n",
      "\u001b[1m1070/1070\u001b[0m \u001b[32m━━━━━━━━━━━━━━━━━━━━\u001b[0m\u001b[37m\u001b[0m \u001b[1m4s\u001b[0m 4ms/step - accuracy: 0.9864 - loss: 0.3132 - precision: 0.2694 - recall: 0.0234 - val_accuracy: 0.9874 - val_loss: 0.1062 - val_precision: 0.0000e+00 - val_recall: 0.0000e+00\n"
     ]
    }
   ],
   "source": [
    "history = model.fit(\n",
    "    X_train_LSTM, Y_train_LSTM,\n",
    "    epochs=20,  # Number of training iterations\n",
    "    batch_size=32,  # Number of samples per gradient update\n",
    "    validation_data=(X_test_LSTM, Y_test_LSTM),  # Evaluate on the test set during training\n",
    "    class_weight = {0:1,1:8} # treats instances of 1 as 8 instances\n",
    ")"
   ]
  },
  {
   "cell_type": "code",
   "execution_count": 28,
   "metadata": {},
   "outputs": [
    {
     "name": "stdout",
     "output_type": "stream",
     "text": [
      "\u001b[1m268/268\u001b[0m \u001b[32m━━━━━━━━━━━━━━━━━━━━\u001b[0m\u001b[37m\u001b[0m \u001b[1m0s\u001b[0m 965us/step - accuracy: 0.9865 - loss: 0.1079 - precision: 0.0000e+00 - recall: 0.0000e+00\n"
     ]
    },
    {
     "ename": "ValueError",
     "evalue": "too many values to unpack (expected 2)",
     "output_type": "error",
     "traceback": [
      "\u001b[1;31m---------------------------------------------------------------------------\u001b[0m",
      "\u001b[1;31mValueError\u001b[0m                                Traceback (most recent call last)",
      "Cell \u001b[1;32mIn[28], line 1\u001b[0m\n\u001b[1;32m----> 1\u001b[0m loss, accuracy \u001b[38;5;241m=\u001b[39m model\u001b[38;5;241m.\u001b[39mevaluate(X_test_LSTM, Y_test_LSTM)\n\u001b[0;32m      2\u001b[0m \u001b[38;5;28mprint\u001b[39m(\u001b[38;5;124mf\u001b[39m\u001b[38;5;124m'\u001b[39m\u001b[38;5;124mTest Loss: \u001b[39m\u001b[38;5;132;01m{\u001b[39;00mloss\u001b[38;5;132;01m}\u001b[39;00m\u001b[38;5;124m'\u001b[39m)\n\u001b[0;32m      3\u001b[0m \u001b[38;5;28mprint\u001b[39m(\u001b[38;5;124mf\u001b[39m\u001b[38;5;124m'\u001b[39m\u001b[38;5;124mTest Accuracy: \u001b[39m\u001b[38;5;132;01m{\u001b[39;00maccuracy\u001b[38;5;132;01m}\u001b[39;00m\u001b[38;5;124m'\u001b[39m)\n",
      "\u001b[1;31mValueError\u001b[0m: too many values to unpack (expected 2)"
     ]
    }
   ],
   "source": [
    "loss, accuracy = model.evaluate(X_test_LSTM, Y_test_LSTM)\n",
    "print(f'Test Loss: {loss}')\n",
    "print(f'Test Accuracy: {accuracy}')"
   ]
  },
  {
   "cell_type": "code",
   "execution_count": 29,
   "metadata": {},
   "outputs": [
    {
     "name": "stdout",
     "output_type": "stream",
     "text": [
      "\u001b[1m268/268\u001b[0m \u001b[32m━━━━━━━━━━━━━━━━━━━━\u001b[0m\u001b[37m\u001b[0m \u001b[1m0s\u001b[0m 1ms/step  \n"
     ]
    }
   ],
   "source": [
    "LSTMpredictions = model.predict(X_test_LSTM)"
   ]
  },
  {
   "cell_type": "code",
   "execution_count": 30,
   "metadata": {},
   "outputs": [
    {
     "name": "stdout",
     "output_type": "stream",
     "text": [
      "Predictions: [0 0 0 ... 0 0 0]\n",
      "Accuracy: 0.999707926864887\n",
      "Precision: 1.0\n",
      "Recall: 0.9786324786324786\n",
      "F1 Score: 0.9892008639308856\n",
      "Confusion Matrix:\n",
      " [[33770     0]\n",
      " [   10   458]]\n",
      "\n",
      "Classification Report:\n",
      "               precision    recall  f1-score   support\n",
      "\n",
      "           0       1.00      1.00      1.00     33770\n",
      "           1       1.00      0.98      0.99       468\n",
      "\n",
      "    accuracy                           1.00     34238\n",
      "   macro avg       1.00      0.99      0.99     34238\n",
      "weighted avg       1.00      1.00      1.00     34238\n",
      "\n"
     ]
    }
   ],
   "source": [
    "# Train an XGBoost model\n",
    "model = xgb.XGBClassifier(objective='binary:logistic', eval_metric='logloss')\n",
    "model.fit(X_train_BOOST, Y_train_BOOST)\n",
    "\n",
    "# Make predictions\n",
    "predictions = model.predict(X_train_BOOST)\n",
    "\n",
    "# Evaluate the model performance\n",
    "accuracy = accuracy_score(Y_train_BOOST, predictions)\n",
    "precision = precision_score(Y_train_BOOST, predictions)\n",
    "recall = recall_score(Y_train_BOOST, predictions)\n",
    "f1 = f1_score(Y_train_BOOST, predictions)\n",
    "conf_matrix = confusion_matrix(Y_train_BOOST, predictions)\n",
    "\n",
    "# Print results\n",
    "print(\"Predictions:\", predictions)\n",
    "print(\"Accuracy:\", accuracy)\n",
    "print(\"Precision:\", precision)\n",
    "print(\"Recall:\", recall)\n",
    "print(\"F1 Score:\", f1)\n",
    "print(\"Confusion Matrix:\\n\", conf_matrix)\n",
    "\n",
    "# Optional: Detailed classification report\n",
    "print(\"\\nClassification Report:\\n\", classification_report(Y_train_BOOST, predictions))"
   ]
  }
 ],
 "metadata": {
  "kernelspec": {
   "display_name": "Python 3",
   "language": "python",
   "name": "python3"
  },
  "language_info": {
   "codemirror_mode": {
    "name": "ipython",
    "version": 3
   },
   "file_extension": ".py",
   "mimetype": "text/x-python",
   "name": "python",
   "nbconvert_exporter": "python",
   "pygments_lexer": "ipython3",
   "version": "3.11.9"
  }
 },
 "nbformat": 4,
 "nbformat_minor": 2
}
